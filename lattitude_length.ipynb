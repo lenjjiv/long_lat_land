{
 "cells": [
  {
   "cell_type": "code",
   "execution_count": 21,
   "metadata": {},
   "outputs": [
    {
     "name": "stdout",
     "output_type": "stream",
     "text": [
      "Note: you may need to restart the kernel to use updated packages.\n"
     ]
    },
    {
     "name": "stderr",
     "output_type": "stream",
     "text": [
      "WARNING: Ignoring invalid distribution -ytz (c:\\users\\lenjjiv\\miniconda3\\lib\\site-packages)\n",
      "WARNING: Ignoring invalid distribution -ytz (c:\\users\\lenjjiv\\miniconda3\\lib\\site-packages)\n",
      "WARNING: Ignoring invalid distribution -ytz (c:\\users\\lenjjiv\\miniconda3\\lib\\site-packages)\n"
     ]
    }
   ],
   "source": [
    "%pip install -q global-land-mask pyproj kaleido"
   ]
  },
  {
   "cell_type": "code",
   "execution_count": 1,
   "metadata": {},
   "outputs": [],
   "source": [
    "import numpy as np\n",
    "from global_land_mask import globe\n",
    "from pyproj import Geod\n",
    "import plotly.io as pio\n",
    "\n",
    "GEOD = Geod(ellps=\"WGS84\")"
   ]
  },
  {
   "cell_type": "code",
   "execution_count": null,
   "metadata": {},
   "outputs": [],
   "source": [
    "def land_parallel_length(\n",
    "    lat_deg: float,\n",
    "    step: float = 0.01,\n",
    ") -> tuple[float, float]:\n",
    "    \"\"\"\n",
    "    Суммарная длина суши вдоль параллели.\n",
    "\n",
    "    Возвращает\n",
    "        (total_km_land, total_km)\n",
    "    где\n",
    "        total_km_land – длина сухопутных участков параллели, км,\n",
    "        total_km – полная длина параллели (при данном step), км.\n",
    "\n",
    "    Parameters\n",
    "    ----------\n",
    "    lat_deg : float\n",
    "        Широта параллели (–90 … +90 °).\n",
    "    step : float, optional\n",
    "        Шаг по долготе, °. 0.01° ≈ 1.1 км на экваторе.\n",
    "        (должен быть 0 < step ≤ 1).\n",
    "    \"\"\"\n",
    "    if not -90.0 <= lat_deg <= 90.0:\n",
    "        raise ValueError(\"Широта должна быть в диапазоне –90…+90°\")\n",
    "    if step <= 0 or step > 1:\n",
    "        raise ValueError(\"step должен быть > 0 и ≤ 1°\")\n",
    "\n",
    "    # Равномерные долготы, –180…+180 включительно\n",
    "    n = int(round(360 / step)) + 1\n",
    "    lons = np.linspace(-180.0, 180.0, n)\n",
    "\n",
    "    # Маска суши (True = суша, False = вода)\n",
    "    land_mask = globe.is_land(np.full_like(lons, lat_deg), lons)\n",
    "\n",
    "    total_m = 0.0\n",
    "    total_m_land = 0.0\n",
    "\n",
    "    # Идём по каждой паре соседних долгот\n",
    "    for i in range(len(lons) - 1):\n",
    "        lon1, lon2 = lons[i], lons[i + 1]\n",
    "\n",
    "        # Геодезическая длина маленького отрезка\n",
    "        _, _, seg = GEOD.inv(lon1, lat_deg, lon2, lat_deg)\n",
    "        seg = abs(seg)          # метры\n",
    "        total_m += seg\n",
    "\n",
    "        # Считаем сушу, только если обе точки сегмента – суша\n",
    "        if land_mask[i] and land_mask[i + 1]:\n",
    "            total_m_land += seg\n",
    "\n",
    "    return total_m_land / 1_000.0, total_m / 1_000.0"
   ]
  },
  {
   "cell_type": "code",
   "execution_count": null,
   "metadata": {},
   "outputs": [
    {
     "data": {
      "application/vnd.jupyter.widget-view+json": {
       "model_id": "6134418d271d4170a987a6fbf36a2a6e",
       "version_major": 2,
       "version_minor": 0
      },
      "text/plain": [
       "  0%|          | 0/181 [00:00<?, ?it/s]"
      ]
     },
     "metadata": {},
     "output_type": "display_data"
    }
   ],
   "source": [
    "from tqdm.auto import tqdm\n",
    "\n",
    "latitudes = list(range(-90, 91))\n",
    "latitudes_land_lengths = []\n",
    "lattitudes_lengths = []\n",
    "\n",
    "for lat in tqdm(latitudes):\n",
    "    land_km, full_km = land_parallel_length(lat, step=0.01)\n",
    "    latitudes_land_lengths.append(land_km)\n",
    "    lattitudes_lengths.append(full_km)"
   ]
  },
  {
   "cell_type": "code",
   "execution_count": 8,
   "metadata": {},
   "outputs": [
    {
     "data": {
      "application/vnd.plotly.v1+json": {
       "config": {
        "plotlyServerURL": "https://plot.ly"
       },
       "data": [
        {
         "hovertemplate": "Широта, °=%{x}<br>Длина суши вдоль параллели, км=%{y}<extra></extra>",
         "legendgroup": "",
         "line": {
          "color": "#636efa",
          "dash": "solid"
         },
         "marker": {
          "symbol": "circle"
         },
         "mode": "lines",
         "name": "",
         "orientation": "v",
         "showlegend": false,
         "type": "scatter",
         "x": {
          "bdata": "pqeoqaqrrK2ur7CxsrO0tba3uLm6u7y9vr/AwcLDxMXGx8jJysvMzc7P0NHS09TV1tfY2drb3N3e3+Dh4uPk5ebn6Onq6+zt7u/w8fLz9PX29/j5+vv8/f7/AAECAwQFBgcICQoLDA0ODxAREhMUFRYXGBkaGxwdHh8gISIjJCUmJygpKissLS4vMDEyMzQ1Njc4OTo7PD0+P0BBQkNERUZHSElKS0xNTk9QUVJTVFVWV1hZWg==",
          "dtype": "i1"
         },
         "xaxis": "x",
         "y": {
          "bdata": "AAAAAAAAAABxBIibD+6FQACn0Eow7ZVAuf99Hc1woEDpm5lFs+mlQCZJgPMuPqpAZjsfd1vmrkDZls8EIwixQBud31LkF7JA00I+cIQDs0CgcczvBWi0QAwbBE4MW7dAztTV1kvBuUBRqEaKZfy5QMq8decWWrxAMhW5xBZau0DiGTbf3Ua7QB7UBsPdaLlAtBqJYwn7uUA15DK7cqG4QDxzVA294LNAkZyKxl7gsUAnzM/7uNOuQJPt6pR0iaNAPY6u2VqCgUDUjjvo9x5ZQOLSWKCMnWFAzv+nkp/lPUB4ktyNjqBIQAAAAAAAAAAAAAAAAAAAAAAAAAAAAAAAAAAAAAAAAAAAAAAAAAAAAAAAAAAAAAAAANQpVEDR6m1AtboKF67gc0AEu6RMn+xyQKOCYSiy8n5ALocFJGizeEDYkL+jA6p9QJBTiy0x44JAkjQKHlj2g0BZnODNeGuCQB8IFtJnVopAOI1GLkw1jkB6GmZvIa2NQOzYwvIucZFAn2XAEq3gkUDfBez/dJaTQMnsLFUOrpJAk4B9ehFHlUAv623ZH+6hQF/AdwKcWKNAsxJio2lko0AfSJM2KzKlQB++mKeILrBA10DkQZD8s0BBw8R2rDa3QOomZrX4Y7pAUS9FxU2ku0B0oH6hsOC8QHraFQAlOb5A4nsP0w+rvkDRB1pVRtC+QJTb+3rRhsBACUdNpFdSwUAN8oovR9PBQDRcU6PYV8JAxdpWCW5AwkDKD6Qtm1bBQDZ8qBjzScFALBlpQ88GwkDjil0UFQ/CQBnWSv9wtcFAVtqcVqwlwUC0rDwr4WHAQGhsCD6kpb9A3zBZS3KZvUDg09InKfe8QPvGjNlxTL9AQTNSovmawEBOTE3rnCrCQHWPbYkFEMNAaswk9SJ5wkDb0wXM8T3CQPT2r5yhOMNACcgfgiSdxEC2SjUSHtrCQO7D4ACHmcJAtSqNaT69wEB3GawcAu3BQBdzvTX+acBA3Ma65Ufbv0BxgnW9SPe/QCLhDGCnecFAUwBtiLWbwUATbyuJUorCQGGd7hnrgMNAqHV49FBAw0ANhKnpYJzCQJ7QAFz1q8FAXMqVKbqjwEBNHQzQJXDBQCiEtdGaLcNAyZMFiVqww0BVypP978nDQHWRTjEFbMVASzmSp1EJx0DBYv5JS/PGQBnZ+gE2J8dA1QEAL2xjyECmvpOa+ubJQNxvK1Fnf8pAJI1eKzJAykAnYt4BpMrJQN6L9rvFe8tAJ5u3lGXky0BFYvveqXXMQKFvS5A5bcxAaNJZDMvJzUBVHjJ3/BTOQDxgD9zBRMxAAzslU7rHykA0hq9l3FrKQLyxGHChyctAVUJHXmbtyUCE3Z/j6ybLQM1IcxhHHstAk3yspeSrykDleC7df+LLQPRpaFw7YMxAsbH/h2Qty0DVg0netjfMQNjzilN+Z8xAaBA1kTqIzUBmNuAtvH7NQD7LbuYe7c1AlEBvaQlRzkDe/H++LnbNQFZ/TP/3V8xABZHmw2h9zUCSWi2kY4fNQBmt+2L7yMxAVA1D3uHfykA2NbuY2vTIQFxGd+1lh8dANlNOM7w4x0CDa8It6q3FQPmeutR9O8ZACzSoiaphx0ANSkCIOSnJQF0iy48PzclAqSFu0aBWyUAhFGDSAWjJQHIwOhhVmslAyV+Hs5VEyUCqx2dsZGLHQFaOisNuHcVAy3AQDMoqwkCSyXx8jV28QPg4MG/XP7ZANUSP55pLskAAnx23M/CsQHLSfNbgGKJA7XJON8I2pkAy8FDAN+qhQDVmEPVfZ51AJ6AabbxPm0A4GGAqx1ebQN/AL00pr5pAjMCq+r7NlUAfRhxEcYSLQIKmHarmb3dAAAAAAAAAAAAAAAAAAAAAAAAAAAAAAAAAAAAAAAAAAAAAAAAAAAAAAAAAAAAAAAAAAAAAAAAAAAA=",
          "dtype": "f8"
         },
         "yaxis": "y"
        }
       ],
       "layout": {
        "legend": {
         "tracegroupgap": 0
        },
        "margin": {
         "t": 60
        },
        "template": {
         "data": {
          "bar": [
           {
            "error_x": {
             "color": "#2a3f5f"
            },
            "error_y": {
             "color": "#2a3f5f"
            },
            "marker": {
             "line": {
              "color": "#E5ECF6",
              "width": 0.5
             },
             "pattern": {
              "fillmode": "overlay",
              "size": 10,
              "solidity": 0.2
             }
            },
            "type": "bar"
           }
          ],
          "barpolar": [
           {
            "marker": {
             "line": {
              "color": "#E5ECF6",
              "width": 0.5
             },
             "pattern": {
              "fillmode": "overlay",
              "size": 10,
              "solidity": 0.2
             }
            },
            "type": "barpolar"
           }
          ],
          "carpet": [
           {
            "aaxis": {
             "endlinecolor": "#2a3f5f",
             "gridcolor": "white",
             "linecolor": "white",
             "minorgridcolor": "white",
             "startlinecolor": "#2a3f5f"
            },
            "baxis": {
             "endlinecolor": "#2a3f5f",
             "gridcolor": "white",
             "linecolor": "white",
             "minorgridcolor": "white",
             "startlinecolor": "#2a3f5f"
            },
            "type": "carpet"
           }
          ],
          "choropleth": [
           {
            "colorbar": {
             "outlinewidth": 0,
             "ticks": ""
            },
            "type": "choropleth"
           }
          ],
          "contour": [
           {
            "colorbar": {
             "outlinewidth": 0,
             "ticks": ""
            },
            "colorscale": [
             [
              0,
              "#0d0887"
             ],
             [
              0.1111111111111111,
              "#46039f"
             ],
             [
              0.2222222222222222,
              "#7201a8"
             ],
             [
              0.3333333333333333,
              "#9c179e"
             ],
             [
              0.4444444444444444,
              "#bd3786"
             ],
             [
              0.5555555555555556,
              "#d8576b"
             ],
             [
              0.6666666666666666,
              "#ed7953"
             ],
             [
              0.7777777777777778,
              "#fb9f3a"
             ],
             [
              0.8888888888888888,
              "#fdca26"
             ],
             [
              1,
              "#f0f921"
             ]
            ],
            "type": "contour"
           }
          ],
          "contourcarpet": [
           {
            "colorbar": {
             "outlinewidth": 0,
             "ticks": ""
            },
            "type": "contourcarpet"
           }
          ],
          "heatmap": [
           {
            "colorbar": {
             "outlinewidth": 0,
             "ticks": ""
            },
            "colorscale": [
             [
              0,
              "#0d0887"
             ],
             [
              0.1111111111111111,
              "#46039f"
             ],
             [
              0.2222222222222222,
              "#7201a8"
             ],
             [
              0.3333333333333333,
              "#9c179e"
             ],
             [
              0.4444444444444444,
              "#bd3786"
             ],
             [
              0.5555555555555556,
              "#d8576b"
             ],
             [
              0.6666666666666666,
              "#ed7953"
             ],
             [
              0.7777777777777778,
              "#fb9f3a"
             ],
             [
              0.8888888888888888,
              "#fdca26"
             ],
             [
              1,
              "#f0f921"
             ]
            ],
            "type": "heatmap"
           }
          ],
          "histogram": [
           {
            "marker": {
             "pattern": {
              "fillmode": "overlay",
              "size": 10,
              "solidity": 0.2
             }
            },
            "type": "histogram"
           }
          ],
          "histogram2d": [
           {
            "colorbar": {
             "outlinewidth": 0,
             "ticks": ""
            },
            "colorscale": [
             [
              0,
              "#0d0887"
             ],
             [
              0.1111111111111111,
              "#46039f"
             ],
             [
              0.2222222222222222,
              "#7201a8"
             ],
             [
              0.3333333333333333,
              "#9c179e"
             ],
             [
              0.4444444444444444,
              "#bd3786"
             ],
             [
              0.5555555555555556,
              "#d8576b"
             ],
             [
              0.6666666666666666,
              "#ed7953"
             ],
             [
              0.7777777777777778,
              "#fb9f3a"
             ],
             [
              0.8888888888888888,
              "#fdca26"
             ],
             [
              1,
              "#f0f921"
             ]
            ],
            "type": "histogram2d"
           }
          ],
          "histogram2dcontour": [
           {
            "colorbar": {
             "outlinewidth": 0,
             "ticks": ""
            },
            "colorscale": [
             [
              0,
              "#0d0887"
             ],
             [
              0.1111111111111111,
              "#46039f"
             ],
             [
              0.2222222222222222,
              "#7201a8"
             ],
             [
              0.3333333333333333,
              "#9c179e"
             ],
             [
              0.4444444444444444,
              "#bd3786"
             ],
             [
              0.5555555555555556,
              "#d8576b"
             ],
             [
              0.6666666666666666,
              "#ed7953"
             ],
             [
              0.7777777777777778,
              "#fb9f3a"
             ],
             [
              0.8888888888888888,
              "#fdca26"
             ],
             [
              1,
              "#f0f921"
             ]
            ],
            "type": "histogram2dcontour"
           }
          ],
          "mesh3d": [
           {
            "colorbar": {
             "outlinewidth": 0,
             "ticks": ""
            },
            "type": "mesh3d"
           }
          ],
          "parcoords": [
           {
            "line": {
             "colorbar": {
              "outlinewidth": 0,
              "ticks": ""
             }
            },
            "type": "parcoords"
           }
          ],
          "pie": [
           {
            "automargin": true,
            "type": "pie"
           }
          ],
          "scatter": [
           {
            "fillpattern": {
             "fillmode": "overlay",
             "size": 10,
             "solidity": 0.2
            },
            "type": "scatter"
           }
          ],
          "scatter3d": [
           {
            "line": {
             "colorbar": {
              "outlinewidth": 0,
              "ticks": ""
             }
            },
            "marker": {
             "colorbar": {
              "outlinewidth": 0,
              "ticks": ""
             }
            },
            "type": "scatter3d"
           }
          ],
          "scattercarpet": [
           {
            "marker": {
             "colorbar": {
              "outlinewidth": 0,
              "ticks": ""
             }
            },
            "type": "scattercarpet"
           }
          ],
          "scattergeo": [
           {
            "marker": {
             "colorbar": {
              "outlinewidth": 0,
              "ticks": ""
             }
            },
            "type": "scattergeo"
           }
          ],
          "scattergl": [
           {
            "marker": {
             "colorbar": {
              "outlinewidth": 0,
              "ticks": ""
             }
            },
            "type": "scattergl"
           }
          ],
          "scattermap": [
           {
            "marker": {
             "colorbar": {
              "outlinewidth": 0,
              "ticks": ""
             }
            },
            "type": "scattermap"
           }
          ],
          "scattermapbox": [
           {
            "marker": {
             "colorbar": {
              "outlinewidth": 0,
              "ticks": ""
             }
            },
            "type": "scattermapbox"
           }
          ],
          "scatterpolar": [
           {
            "marker": {
             "colorbar": {
              "outlinewidth": 0,
              "ticks": ""
             }
            },
            "type": "scatterpolar"
           }
          ],
          "scatterpolargl": [
           {
            "marker": {
             "colorbar": {
              "outlinewidth": 0,
              "ticks": ""
             }
            },
            "type": "scatterpolargl"
           }
          ],
          "scatterternary": [
           {
            "marker": {
             "colorbar": {
              "outlinewidth": 0,
              "ticks": ""
             }
            },
            "type": "scatterternary"
           }
          ],
          "surface": [
           {
            "colorbar": {
             "outlinewidth": 0,
             "ticks": ""
            },
            "colorscale": [
             [
              0,
              "#0d0887"
             ],
             [
              0.1111111111111111,
              "#46039f"
             ],
             [
              0.2222222222222222,
              "#7201a8"
             ],
             [
              0.3333333333333333,
              "#9c179e"
             ],
             [
              0.4444444444444444,
              "#bd3786"
             ],
             [
              0.5555555555555556,
              "#d8576b"
             ],
             [
              0.6666666666666666,
              "#ed7953"
             ],
             [
              0.7777777777777778,
              "#fb9f3a"
             ],
             [
              0.8888888888888888,
              "#fdca26"
             ],
             [
              1,
              "#f0f921"
             ]
            ],
            "type": "surface"
           }
          ],
          "table": [
           {
            "cells": {
             "fill": {
              "color": "#EBF0F8"
             },
             "line": {
              "color": "white"
             }
            },
            "header": {
             "fill": {
              "color": "#C8D4E3"
             },
             "line": {
              "color": "white"
             }
            },
            "type": "table"
           }
          ]
         },
         "layout": {
          "annotationdefaults": {
           "arrowcolor": "#2a3f5f",
           "arrowhead": 0,
           "arrowwidth": 1
          },
          "autotypenumbers": "strict",
          "coloraxis": {
           "colorbar": {
            "outlinewidth": 0,
            "ticks": ""
           }
          },
          "colorscale": {
           "diverging": [
            [
             0,
             "#8e0152"
            ],
            [
             0.1,
             "#c51b7d"
            ],
            [
             0.2,
             "#de77ae"
            ],
            [
             0.3,
             "#f1b6da"
            ],
            [
             0.4,
             "#fde0ef"
            ],
            [
             0.5,
             "#f7f7f7"
            ],
            [
             0.6,
             "#e6f5d0"
            ],
            [
             0.7,
             "#b8e186"
            ],
            [
             0.8,
             "#7fbc41"
            ],
            [
             0.9,
             "#4d9221"
            ],
            [
             1,
             "#276419"
            ]
           ],
           "sequential": [
            [
             0,
             "#0d0887"
            ],
            [
             0.1111111111111111,
             "#46039f"
            ],
            [
             0.2222222222222222,
             "#7201a8"
            ],
            [
             0.3333333333333333,
             "#9c179e"
            ],
            [
             0.4444444444444444,
             "#bd3786"
            ],
            [
             0.5555555555555556,
             "#d8576b"
            ],
            [
             0.6666666666666666,
             "#ed7953"
            ],
            [
             0.7777777777777778,
             "#fb9f3a"
            ],
            [
             0.8888888888888888,
             "#fdca26"
            ],
            [
             1,
             "#f0f921"
            ]
           ],
           "sequentialminus": [
            [
             0,
             "#0d0887"
            ],
            [
             0.1111111111111111,
             "#46039f"
            ],
            [
             0.2222222222222222,
             "#7201a8"
            ],
            [
             0.3333333333333333,
             "#9c179e"
            ],
            [
             0.4444444444444444,
             "#bd3786"
            ],
            [
             0.5555555555555556,
             "#d8576b"
            ],
            [
             0.6666666666666666,
             "#ed7953"
            ],
            [
             0.7777777777777778,
             "#fb9f3a"
            ],
            [
             0.8888888888888888,
             "#fdca26"
            ],
            [
             1,
             "#f0f921"
            ]
           ]
          },
          "colorway": [
           "#636efa",
           "#EF553B",
           "#00cc96",
           "#ab63fa",
           "#FFA15A",
           "#19d3f3",
           "#FF6692",
           "#B6E880",
           "#FF97FF",
           "#FECB52"
          ],
          "font": {
           "color": "#2a3f5f"
          },
          "geo": {
           "bgcolor": "white",
           "lakecolor": "white",
           "landcolor": "#E5ECF6",
           "showlakes": true,
           "showland": true,
           "subunitcolor": "white"
          },
          "hoverlabel": {
           "align": "left"
          },
          "hovermode": "closest",
          "mapbox": {
           "style": "light"
          },
          "paper_bgcolor": "white",
          "plot_bgcolor": "#E5ECF6",
          "polar": {
           "angularaxis": {
            "gridcolor": "white",
            "linecolor": "white",
            "ticks": ""
           },
           "bgcolor": "#E5ECF6",
           "radialaxis": {
            "gridcolor": "white",
            "linecolor": "white",
            "ticks": ""
           }
          },
          "scene": {
           "xaxis": {
            "backgroundcolor": "#E5ECF6",
            "gridcolor": "white",
            "gridwidth": 2,
            "linecolor": "white",
            "showbackground": true,
            "ticks": "",
            "zerolinecolor": "white"
           },
           "yaxis": {
            "backgroundcolor": "#E5ECF6",
            "gridcolor": "white",
            "gridwidth": 2,
            "linecolor": "white",
            "showbackground": true,
            "ticks": "",
            "zerolinecolor": "white"
           },
           "zaxis": {
            "backgroundcolor": "#E5ECF6",
            "gridcolor": "white",
            "gridwidth": 2,
            "linecolor": "white",
            "showbackground": true,
            "ticks": "",
            "zerolinecolor": "white"
           }
          },
          "shapedefaults": {
           "line": {
            "color": "#2a3f5f"
           }
          },
          "ternary": {
           "aaxis": {
            "gridcolor": "white",
            "linecolor": "white",
            "ticks": ""
           },
           "baxis": {
            "gridcolor": "white",
            "linecolor": "white",
            "ticks": ""
           },
           "bgcolor": "#E5ECF6",
           "caxis": {
            "gridcolor": "white",
            "linecolor": "white",
            "ticks": ""
           }
          },
          "title": {
           "x": 0.05
          },
          "xaxis": {
           "automargin": true,
           "gridcolor": "white",
           "linecolor": "white",
           "ticks": "",
           "title": {
            "standoff": 15
           },
           "zerolinecolor": "white",
           "zerolinewidth": 2
          },
          "yaxis": {
           "automargin": true,
           "gridcolor": "white",
           "linecolor": "white",
           "ticks": "",
           "title": {
            "standoff": 15
           },
           "zerolinecolor": "white",
           "zerolinewidth": 2
          }
         }
        },
        "title": {
         "text": "Сколько суши приходится на каждую параллель"
        },
        "xaxis": {
         "anchor": "y",
         "domain": [
          0,
          1
         ],
         "title": {
          "text": "Широта (°)"
         }
        },
        "yaxis": {
         "anchor": "x",
         "domain": [
          0,
          1
         ],
         "title": {
          "text": "Сухопутная длина параллели (км)"
         }
        }
       }
      }
     },
     "metadata": {},
     "output_type": "display_data"
    }
   ],
   "source": [
    "import plotly.express as px\n",
    "\n",
    "fig = px.line(\n",
    "    x=latitudes,\n",
    "    y=latitudes_land_lengths,\n",
    "    labels={\n",
    "        \"x\": \"Широта, °\",\n",
    "        \"y\": \"Длина суши вдоль параллели, км\",\n",
    "    },\n",
    ")\n",
    "fig.update_layout(\n",
    "    title=\"Сколько суши приходится на каждую параллель\",\n",
    "    xaxis_title=\"Широта (°)\",\n",
    "    yaxis_title=\"Сухопутная длина параллели (км)\"\n",
    ")\n",
    "fig.show()\n",
    "pio.write_image(\n",
    "    fig, \n",
    "    \"latitude_land_len_line.png\", \n",
    "    \"png\", \n",
    "    scale=2.0, \n",
    "    width=1280, \n",
    "    height=480\n",
    ")"
   ]
  },
  {
   "cell_type": "code",
   "execution_count": 33,
   "metadata": {},
   "outputs": [
    {
     "data": {
      "application/vnd.plotly.v1+json": {
       "config": {
        "plotlyServerURL": "https://plot.ly"
       },
       "data": [
        {
         "lat": {
          "bdata": "pqeoqaqrrK2ur7CxsrO0tba3uLm6u7y9vr/AwcLDxMXGx8jJysvMzc7P0NHS09TV1tfY2drb3N3e3+Dh4uPk5ebn6Onq6+zt7u/w8fLz9PX29/j5+vv8/f7/AAECAwQFBgcICQoLDA0ODxAREhMUFRYXGBkaGxwdHh8gISIjJCUmJygpKissLS4vMDEyMzQ1Njc4OTo7PD0+P0BBQkNERUZHSElKS0xNTk9QUVJTVFVWV1hZWg==",
          "dtype": "i1"
         },
         "line": {
          "color": "rgba(0,0,0,0.5)",
          "width": 2
         },
         "lon": {
          "bdata": "AAAAAAAAAAAAAAAAAAAAAAAAAAAAAAAAAAAAAAAAAAAAAAAAAAAAAAAAAAAAAAAAAAAAAAAAAAAAAAAAAAAAAAAAAAAAAAAAAAAAAAAAAAAAAAAAAAAAAAAAAAAAAAAAAAAAAAAAAAAAAAAAAAAAAAAAAAAAAAAAAAAAAAAAAAAAAAAAAAAAAAAAAAAAAAAAAAAAAAAAAAAAAAAAAAAAAAAAAAAAAAAAAAAAAAAAAAAAAAAAAA==",
          "dtype": "i1"
         },
         "marker": {
          "color": {
           "bdata": "AAAAAAAAAABxBIibD+6FQACn0Eow7ZVAuf99Hc1woEDpm5lFs+mlQCZJgPMuPqpAZjsfd1vmrkDZls8EIwixQBud31LkF7JA00I+cIQDs0CgcczvBWi0QAwbBE4MW7dAztTV1kvBuUBRqEaKZfy5QMq8decWWrxAMhW5xBZau0DiGTbf3Ua7QB7UBsPdaLlAtBqJYwn7uUA15DK7cqG4QDxzVA294LNAkZyKxl7gsUAnzM/7uNOuQJPt6pR0iaNAPY6u2VqCgUDUjjvo9x5ZQOLSWKCMnWFAzv+nkp/lPUB4ktyNjqBIQAAAAAAAAAAAAAAAAAAAAAAAAAAAAAAAAAAAAAAAAAAAAAAAAAAAAAAAAAAAAAAAANQpVEDR6m1AtboKF67gc0AEu6RMn+xyQKOCYSiy8n5ALocFJGizeEDYkL+jA6p9QJBTiy0x44JAkjQKHlj2g0BZnODNeGuCQB8IFtJnVopAOI1GLkw1jkB6GmZvIa2NQOzYwvIucZFAn2XAEq3gkUDfBez/dJaTQMnsLFUOrpJAk4B9ehFHlUAv623ZH+6hQF/AdwKcWKNAsxJio2lko0AfSJM2KzKlQB++mKeILrBA10DkQZD8s0BBw8R2rDa3QOomZrX4Y7pAUS9FxU2ku0B0oH6hsOC8QHraFQAlOb5A4nsP0w+rvkDRB1pVRtC+QJTb+3rRhsBACUdNpFdSwUAN8oovR9PBQDRcU6PYV8JAxdpWCW5AwkDKD6Qtm1bBQDZ8qBjzScFALBlpQ88GwkDjil0UFQ/CQBnWSv9wtcFAVtqcVqwlwUC0rDwr4WHAQGhsCD6kpb9A3zBZS3KZvUDg09InKfe8QPvGjNlxTL9AQTNSovmawEBOTE3rnCrCQHWPbYkFEMNAaswk9SJ5wkDb0wXM8T3CQPT2r5yhOMNACcgfgiSdxEC2SjUSHtrCQO7D4ACHmcJAtSqNaT69wEB3GawcAu3BQBdzvTX+acBA3Ma65Ufbv0BxgnW9SPe/QCLhDGCnecFAUwBtiLWbwUATbyuJUorCQGGd7hnrgMNAqHV49FBAw0ANhKnpYJzCQJ7QAFz1q8FAXMqVKbqjwEBNHQzQJXDBQCiEtdGaLcNAyZMFiVqww0BVypP978nDQHWRTjEFbMVASzmSp1EJx0DBYv5JS/PGQBnZ+gE2J8dA1QEAL2xjyECmvpOa+ubJQNxvK1Fnf8pAJI1eKzJAykAnYt4BpMrJQN6L9rvFe8tAJ5u3lGXky0BFYvveqXXMQKFvS5A5bcxAaNJZDMvJzUBVHjJ3/BTOQDxgD9zBRMxAAzslU7rHykA0hq9l3FrKQLyxGHChyctAVUJHXmbtyUCE3Z/j6ybLQM1IcxhHHstAk3yspeSrykDleC7df+LLQPRpaFw7YMxAsbH/h2Qty0DVg0netjfMQNjzilN+Z8xAaBA1kTqIzUBmNuAtvH7NQD7LbuYe7c1AlEBvaQlRzkDe/H++LnbNQFZ/TP/3V8xABZHmw2h9zUCSWi2kY4fNQBmt+2L7yMxAVA1D3uHfykA2NbuY2vTIQFxGd+1lh8dANlNOM7w4x0CDa8It6q3FQPmeutR9O8ZACzSoiaphx0ANSkCIOSnJQF0iy48PzclAqSFu0aBWyUAhFGDSAWjJQHIwOhhVmslAyV+Hs5VEyUCqx2dsZGLHQFaOisNuHcVAy3AQDMoqwkCSyXx8jV28QPg4MG/XP7ZANUSP55pLskAAnx23M/CsQHLSfNbgGKJA7XJON8I2pkAy8FDAN+qhQDVmEPVfZ51AJ6AabbxPm0A4GGAqx1ebQN/AL00pr5pAjMCq+r7NlUAfRhxEcYSLQIKmHarmb3dAAAAAAAAAAAAAAAAAAAAAAAAAAAAAAAAAAAAAAAAAAAAAAAAAAAAAAAAAAAAAAAAAAAAAAAAAAAA=",
           "dtype": "f8"
          },
          "colorbar": {
           "title": {
            "text": "Длина суши (км)"
           }
          },
          "colorscale": [
           [
            0,
            "#440154"
           ],
           [
            0.1111111111111111,
            "#482878"
           ],
           [
            0.2222222222222222,
            "#3e4989"
           ],
           [
            0.3333333333333333,
            "#31688e"
           ],
           [
            0.4444444444444444,
            "#26828e"
           ],
           [
            0.5555555555555556,
            "#1f9e89"
           ],
           [
            0.6666666666666666,
            "#35b779"
           ],
           [
            0.7777777777777778,
            "#6ece58"
           ],
           [
            0.8888888888888888,
            "#b5de2b"
           ],
           [
            1,
            "#fde725"
           ]
          ],
          "size": {
           "bdata": "AAAAAAAAAABIGEglh8/gPzcI5fXbzvA/XBshCp40+T/i/JpnL8wAQL5z7RjoHQRAhG8oQ8ivB0BLYPw1ohwKQARoXKJEvQtAMO0m5YImDUANIBtKFEkPQN0gxTNQ5xFAGBnuPiy+E0CFI/YaeusTQA1XJD/HuxVAbT31tYn3FEBeImGJzegUQOBtWL9iehNAuW3BOW/qE0AHcbryhOESQMFlvsGreQ5Axt3gfSVoC0A9D/xjf6EHQBUacOXa8/0/1R0dXALY2j/S0CUIvUGzP76Hh6GzAbs/fj2YzPrqlj+LAkMJ1uCiPwAAAAAAAAAAAAAAAAAAAAAAAAAAAAAAAAAAAAAAAAAAAAAAAAAAAAAAAAAAAAAAAJCrpBT27sY/xjdv0ZR5zj9bfqoJaQPNPx+H25g9udc/Ax83Jknv0j+YNsgbSb3WP8+ma+Pz9Nw/3/Tjkcua3j8vFqkbaD3cP7YKW3N5MOQ/GS1HEg4o5z+zxyWrrL/mP4ZRw+Suveo/0isniJ1o6z+ylrfGyQfuPz31mgd9o+w/SSJQgYRP8D/cJbG8O337Pw2EydP3qP0/4ddgXBC7/T+KEGwxfz8AQDtbvWcFzwhAtxbqhFSkDkAO8GwYbssRQNZYxqLfOhRAuIeIoW0wFUCCXFU+9SIWQFEwPf8AKxdAYNHqHlSCF0CcDLvI2p4XQISdYkpfVhlAvpNgZ2aOGkBelhwWE1QbQJ4NOW9RHxxAP19n9mr7G0A7sovd75QaQJ7zYWqIgRpAvHfkLxSjG0DEjEUQw68bQIAuYspUJhtAVIUyqOpJGkBxRdiVvR0ZQLr8ZeJpQhhAuRpQ2pWwFkDVHZrpLjQWQHAi8OUJ/hdAZX4qc0Z1GUCHdOhH+NkbQBM0CpSuOR1AsaGtNltSHEDniyiHm/cbQFhY/A7xdx1AV86dmISaH0CnX55GCuccQHIKTfQDhBxAPfGcNtCpGUBunIWqhXsbQB9xxvItKhlAx6PzDYhrGEAs8Wlr/4AYQGqs0VyryhpAkSLOYuH+GkAbVdxQtGwcQEZ/OUjE5h1A32qaPbmDHUDzzw//YogcQCw5POvKFxtAg6OZdbGCGUCC9ltoGLwaQA4Eal0JZx1Aghtorn0vHkBvTTTQtlYeQMwGUPfXayBAOKOQr6moIUDTK+SGx5chQL8FG7GTvyFAhccKDfmxIkCyL7YXD9sjQOlJPefmTyRANHBWC3MfJEDJ+uv9VcUjQC8efcBbESVAwm22PY9hJUBzH5Ri6tAlQOa27V9yyiVAdJcbaKXVJkDusChJSQ8nQMjZ7wNtqyVAauLDz1eHJEBaTBDG4zMkQO/fYKUKTSVAQCL/I/vfI0CfbE2aUNAkQJ1Dv1uwySRAt9ADiQFyJED08KLoGmAlQO0VBaJ8wCVAj2WxhUbVJECB62N4baElQG46U6UNxiVAwpIVDmOjJkC/WtECHJwmQLBIUBW68CZAiSqkm1E9J0CunSasjZUmQJX8HBMnuiVAaWM71BebJkBdXwhNvqImQOAlDMrIECZAHkkh4tuZJEB+mBt8dCEjQCJ3W3ZPCSJAdxdqowLNIUBM6J0YW54gQJXgxh3iCiFAp6X+72LsIUDJd7q8mUkjQMueQeswxyNATqD5tWdsI0B4b1EmunkjQLfUX/tNoCNA/wSk3pJeI0AaoTRu8ewhQIJ4fe+ZLyBAvNu7dz3aG0B0IP7dbr4VQP+jQ8M3DhFAmqO2B40MDEBWMdJT2S4GQH70FcXHvvs/1kyAVkEHAUAdAEF2Pnf7P6oYQswzivY/7XfgDprv9D9P19E1xPX0P2eMCeKCdPQ/Nr/zqMG28D8/+FcpARjlPzYNUmNM99E/AAAAAAAAAAAAAAAAAAAAAAAAAAAAAAAAAAAAAAAAAAAAAAAAAAAAAAAAAAAAAAAAAAAAAAAAAAA=",
           "dtype": "f8"
          }
         },
         "mode": "lines+markers",
         "name": "Длина суши по параллелям",
         "type": "scattergeo"
        }
       ],
       "layout": {
        "geo": {
         "landcolor": "lightgray",
         "projection": {
          "type": "natural earth"
         },
         "showcoastlines": true,
         "showcountries": true,
         "showland": true
        },
        "height": 600,
        "template": {
         "data": {
          "bar": [
           {
            "error_x": {
             "color": "#2a3f5f"
            },
            "error_y": {
             "color": "#2a3f5f"
            },
            "marker": {
             "line": {
              "color": "#E5ECF6",
              "width": 0.5
             },
             "pattern": {
              "fillmode": "overlay",
              "size": 10,
              "solidity": 0.2
             }
            },
            "type": "bar"
           }
          ],
          "barpolar": [
           {
            "marker": {
             "line": {
              "color": "#E5ECF6",
              "width": 0.5
             },
             "pattern": {
              "fillmode": "overlay",
              "size": 10,
              "solidity": 0.2
             }
            },
            "type": "barpolar"
           }
          ],
          "carpet": [
           {
            "aaxis": {
             "endlinecolor": "#2a3f5f",
             "gridcolor": "white",
             "linecolor": "white",
             "minorgridcolor": "white",
             "startlinecolor": "#2a3f5f"
            },
            "baxis": {
             "endlinecolor": "#2a3f5f",
             "gridcolor": "white",
             "linecolor": "white",
             "minorgridcolor": "white",
             "startlinecolor": "#2a3f5f"
            },
            "type": "carpet"
           }
          ],
          "choropleth": [
           {
            "colorbar": {
             "outlinewidth": 0,
             "ticks": ""
            },
            "type": "choropleth"
           }
          ],
          "contour": [
           {
            "colorbar": {
             "outlinewidth": 0,
             "ticks": ""
            },
            "colorscale": [
             [
              0,
              "#0d0887"
             ],
             [
              0.1111111111111111,
              "#46039f"
             ],
             [
              0.2222222222222222,
              "#7201a8"
             ],
             [
              0.3333333333333333,
              "#9c179e"
             ],
             [
              0.4444444444444444,
              "#bd3786"
             ],
             [
              0.5555555555555556,
              "#d8576b"
             ],
             [
              0.6666666666666666,
              "#ed7953"
             ],
             [
              0.7777777777777778,
              "#fb9f3a"
             ],
             [
              0.8888888888888888,
              "#fdca26"
             ],
             [
              1,
              "#f0f921"
             ]
            ],
            "type": "contour"
           }
          ],
          "contourcarpet": [
           {
            "colorbar": {
             "outlinewidth": 0,
             "ticks": ""
            },
            "type": "contourcarpet"
           }
          ],
          "heatmap": [
           {
            "colorbar": {
             "outlinewidth": 0,
             "ticks": ""
            },
            "colorscale": [
             [
              0,
              "#0d0887"
             ],
             [
              0.1111111111111111,
              "#46039f"
             ],
             [
              0.2222222222222222,
              "#7201a8"
             ],
             [
              0.3333333333333333,
              "#9c179e"
             ],
             [
              0.4444444444444444,
              "#bd3786"
             ],
             [
              0.5555555555555556,
              "#d8576b"
             ],
             [
              0.6666666666666666,
              "#ed7953"
             ],
             [
              0.7777777777777778,
              "#fb9f3a"
             ],
             [
              0.8888888888888888,
              "#fdca26"
             ],
             [
              1,
              "#f0f921"
             ]
            ],
            "type": "heatmap"
           }
          ],
          "histogram": [
           {
            "marker": {
             "pattern": {
              "fillmode": "overlay",
              "size": 10,
              "solidity": 0.2
             }
            },
            "type": "histogram"
           }
          ],
          "histogram2d": [
           {
            "colorbar": {
             "outlinewidth": 0,
             "ticks": ""
            },
            "colorscale": [
             [
              0,
              "#0d0887"
             ],
             [
              0.1111111111111111,
              "#46039f"
             ],
             [
              0.2222222222222222,
              "#7201a8"
             ],
             [
              0.3333333333333333,
              "#9c179e"
             ],
             [
              0.4444444444444444,
              "#bd3786"
             ],
             [
              0.5555555555555556,
              "#d8576b"
             ],
             [
              0.6666666666666666,
              "#ed7953"
             ],
             [
              0.7777777777777778,
              "#fb9f3a"
             ],
             [
              0.8888888888888888,
              "#fdca26"
             ],
             [
              1,
              "#f0f921"
             ]
            ],
            "type": "histogram2d"
           }
          ],
          "histogram2dcontour": [
           {
            "colorbar": {
             "outlinewidth": 0,
             "ticks": ""
            },
            "colorscale": [
             [
              0,
              "#0d0887"
             ],
             [
              0.1111111111111111,
              "#46039f"
             ],
             [
              0.2222222222222222,
              "#7201a8"
             ],
             [
              0.3333333333333333,
              "#9c179e"
             ],
             [
              0.4444444444444444,
              "#bd3786"
             ],
             [
              0.5555555555555556,
              "#d8576b"
             ],
             [
              0.6666666666666666,
              "#ed7953"
             ],
             [
              0.7777777777777778,
              "#fb9f3a"
             ],
             [
              0.8888888888888888,
              "#fdca26"
             ],
             [
              1,
              "#f0f921"
             ]
            ],
            "type": "histogram2dcontour"
           }
          ],
          "mesh3d": [
           {
            "colorbar": {
             "outlinewidth": 0,
             "ticks": ""
            },
            "type": "mesh3d"
           }
          ],
          "parcoords": [
           {
            "line": {
             "colorbar": {
              "outlinewidth": 0,
              "ticks": ""
             }
            },
            "type": "parcoords"
           }
          ],
          "pie": [
           {
            "automargin": true,
            "type": "pie"
           }
          ],
          "scatter": [
           {
            "fillpattern": {
             "fillmode": "overlay",
             "size": 10,
             "solidity": 0.2
            },
            "type": "scatter"
           }
          ],
          "scatter3d": [
           {
            "line": {
             "colorbar": {
              "outlinewidth": 0,
              "ticks": ""
             }
            },
            "marker": {
             "colorbar": {
              "outlinewidth": 0,
              "ticks": ""
             }
            },
            "type": "scatter3d"
           }
          ],
          "scattercarpet": [
           {
            "marker": {
             "colorbar": {
              "outlinewidth": 0,
              "ticks": ""
             }
            },
            "type": "scattercarpet"
           }
          ],
          "scattergeo": [
           {
            "marker": {
             "colorbar": {
              "outlinewidth": 0,
              "ticks": ""
             }
            },
            "type": "scattergeo"
           }
          ],
          "scattergl": [
           {
            "marker": {
             "colorbar": {
              "outlinewidth": 0,
              "ticks": ""
             }
            },
            "type": "scattergl"
           }
          ],
          "scattermap": [
           {
            "marker": {
             "colorbar": {
              "outlinewidth": 0,
              "ticks": ""
             }
            },
            "type": "scattermap"
           }
          ],
          "scattermapbox": [
           {
            "marker": {
             "colorbar": {
              "outlinewidth": 0,
              "ticks": ""
             }
            },
            "type": "scattermapbox"
           }
          ],
          "scatterpolar": [
           {
            "marker": {
             "colorbar": {
              "outlinewidth": 0,
              "ticks": ""
             }
            },
            "type": "scatterpolar"
           }
          ],
          "scatterpolargl": [
           {
            "marker": {
             "colorbar": {
              "outlinewidth": 0,
              "ticks": ""
             }
            },
            "type": "scatterpolargl"
           }
          ],
          "scatterternary": [
           {
            "marker": {
             "colorbar": {
              "outlinewidth": 0,
              "ticks": ""
             }
            },
            "type": "scatterternary"
           }
          ],
          "surface": [
           {
            "colorbar": {
             "outlinewidth": 0,
             "ticks": ""
            },
            "colorscale": [
             [
              0,
              "#0d0887"
             ],
             [
              0.1111111111111111,
              "#46039f"
             ],
             [
              0.2222222222222222,
              "#7201a8"
             ],
             [
              0.3333333333333333,
              "#9c179e"
             ],
             [
              0.4444444444444444,
              "#bd3786"
             ],
             [
              0.5555555555555556,
              "#d8576b"
             ],
             [
              0.6666666666666666,
              "#ed7953"
             ],
             [
              0.7777777777777778,
              "#fb9f3a"
             ],
             [
              0.8888888888888888,
              "#fdca26"
             ],
             [
              1,
              "#f0f921"
             ]
            ],
            "type": "surface"
           }
          ],
          "table": [
           {
            "cells": {
             "fill": {
              "color": "#EBF0F8"
             },
             "line": {
              "color": "white"
             }
            },
            "header": {
             "fill": {
              "color": "#C8D4E3"
             },
             "line": {
              "color": "white"
             }
            },
            "type": "table"
           }
          ]
         },
         "layout": {
          "annotationdefaults": {
           "arrowcolor": "#2a3f5f",
           "arrowhead": 0,
           "arrowwidth": 1
          },
          "autotypenumbers": "strict",
          "coloraxis": {
           "colorbar": {
            "outlinewidth": 0,
            "ticks": ""
           }
          },
          "colorscale": {
           "diverging": [
            [
             0,
             "#8e0152"
            ],
            [
             0.1,
             "#c51b7d"
            ],
            [
             0.2,
             "#de77ae"
            ],
            [
             0.3,
             "#f1b6da"
            ],
            [
             0.4,
             "#fde0ef"
            ],
            [
             0.5,
             "#f7f7f7"
            ],
            [
             0.6,
             "#e6f5d0"
            ],
            [
             0.7,
             "#b8e186"
            ],
            [
             0.8,
             "#7fbc41"
            ],
            [
             0.9,
             "#4d9221"
            ],
            [
             1,
             "#276419"
            ]
           ],
           "sequential": [
            [
             0,
             "#0d0887"
            ],
            [
             0.1111111111111111,
             "#46039f"
            ],
            [
             0.2222222222222222,
             "#7201a8"
            ],
            [
             0.3333333333333333,
             "#9c179e"
            ],
            [
             0.4444444444444444,
             "#bd3786"
            ],
            [
             0.5555555555555556,
             "#d8576b"
            ],
            [
             0.6666666666666666,
             "#ed7953"
            ],
            [
             0.7777777777777778,
             "#fb9f3a"
            ],
            [
             0.8888888888888888,
             "#fdca26"
            ],
            [
             1,
             "#f0f921"
            ]
           ],
           "sequentialminus": [
            [
             0,
             "#0d0887"
            ],
            [
             0.1111111111111111,
             "#46039f"
            ],
            [
             0.2222222222222222,
             "#7201a8"
            ],
            [
             0.3333333333333333,
             "#9c179e"
            ],
            [
             0.4444444444444444,
             "#bd3786"
            ],
            [
             0.5555555555555556,
             "#d8576b"
            ],
            [
             0.6666666666666666,
             "#ed7953"
            ],
            [
             0.7777777777777778,
             "#fb9f3a"
            ],
            [
             0.8888888888888888,
             "#fdca26"
            ],
            [
             1,
             "#f0f921"
            ]
           ]
          },
          "colorway": [
           "#636efa",
           "#EF553B",
           "#00cc96",
           "#ab63fa",
           "#FFA15A",
           "#19d3f3",
           "#FF6692",
           "#B6E880",
           "#FF97FF",
           "#FECB52"
          ],
          "font": {
           "color": "#2a3f5f"
          },
          "geo": {
           "bgcolor": "white",
           "lakecolor": "white",
           "landcolor": "#E5ECF6",
           "showlakes": true,
           "showland": true,
           "subunitcolor": "white"
          },
          "hoverlabel": {
           "align": "left"
          },
          "hovermode": "closest",
          "mapbox": {
           "style": "light"
          },
          "paper_bgcolor": "white",
          "plot_bgcolor": "#E5ECF6",
          "polar": {
           "angularaxis": {
            "gridcolor": "white",
            "linecolor": "white",
            "ticks": ""
           },
           "bgcolor": "#E5ECF6",
           "radialaxis": {
            "gridcolor": "white",
            "linecolor": "white",
            "ticks": ""
           }
          },
          "scene": {
           "xaxis": {
            "backgroundcolor": "#E5ECF6",
            "gridcolor": "white",
            "gridwidth": 2,
            "linecolor": "white",
            "showbackground": true,
            "ticks": "",
            "zerolinecolor": "white"
           },
           "yaxis": {
            "backgroundcolor": "#E5ECF6",
            "gridcolor": "white",
            "gridwidth": 2,
            "linecolor": "white",
            "showbackground": true,
            "ticks": "",
            "zerolinecolor": "white"
           },
           "zaxis": {
            "backgroundcolor": "#E5ECF6",
            "gridcolor": "white",
            "gridwidth": 2,
            "linecolor": "white",
            "showbackground": true,
            "ticks": "",
            "zerolinecolor": "white"
           }
          },
          "shapedefaults": {
           "line": {
            "color": "#2a3f5f"
           }
          },
          "ternary": {
           "aaxis": {
            "gridcolor": "white",
            "linecolor": "white",
            "ticks": ""
           },
           "baxis": {
            "gridcolor": "white",
            "linecolor": "white",
            "ticks": ""
           },
           "bgcolor": "#E5ECF6",
           "caxis": {
            "gridcolor": "white",
            "linecolor": "white",
            "ticks": ""
           }
          },
          "title": {
           "x": 0.05
          },
          "xaxis": {
           "automargin": true,
           "gridcolor": "white",
           "linecolor": "white",
           "ticks": "",
           "title": {
            "standoff": 15
           },
           "zerolinecolor": "white",
           "zerolinewidth": 2
          },
          "yaxis": {
           "automargin": true,
           "gridcolor": "white",
           "linecolor": "white",
           "ticks": "",
           "title": {
            "standoff": 15
           },
           "zerolinecolor": "white",
           "zerolinewidth": 2
          }
         }
        },
        "title": {
         "text": "Сколько суши приходится на каждую параллель"
        },
        "width": 800
       }
      }
     },
     "metadata": {},
     "output_type": "display_data"
    }
   ],
   "source": [
    "import pandas as pd\n",
    "import plotly.graph_objects as go\n",
    "import plotly.io as pio\n",
    "\n",
    "df = pd.DataFrame({\"lat\": latitudes, \"land_km\": latitudes_land_lengths})\n",
    "df = df.sort_values(\"lat\")\n",
    "df[\"lon\"] = 0  # кладём всё на меридиан 0°\n",
    "\n",
    "# Настраиваем размер маркеров пропорционально длине суши\n",
    "# Множитель можно регулировать для лучшей визуализации\n",
    "# Так как здесь используются абсолютные значения в км, нужно подобрать подходящий коэффициент\n",
    "marker_size = df[\"land_km\"] / max(lattitudes_lengths) * 30\n",
    "\n",
    "fig_geo = go.Figure()\n",
    "\n",
    "fig_geo.add_trace(go.Scattergeo(\n",
    "    lon=df[\"lon\"],\n",
    "    lat=df[\"lat\"],\n",
    "    mode=\"lines+markers\",\n",
    "    marker=dict(\n",
    "        size=marker_size,  # Теперь размер точек пропорционален длине суши\n",
    "        color=df[\"land_km\"],\n",
    "        colorbar=dict(title=\"Длина суши (км)\"),\n",
    "        colorscale=\"Viridis\",  # Добавляем цветовую шкалу\n",
    "    ),\n",
    "    line=dict(width=2, color=\"rgba(0,0,0,0.5)\"),\n",
    "    name=\"Длина суши по параллелям\"\n",
    "))\n",
    "\n",
    "fig_geo.update_geos(\n",
    "    projection_type=\"natural earth\",\n",
    "    showcoastlines=True,\n",
    "    showcountries=True,\n",
    "    showland=True,\n",
    "    landcolor=\"lightgray\"\n",
    ")\n",
    "\n",
    "fig_geo.update_layout(\n",
    "    title=\"Сколько суши приходится на каждую параллель\",\n",
    "    height=600,\n",
    "    width=800\n",
    ")\n",
    "\n",
    "fig_geo.show()\n",
    "pio.write_image(\n",
    "    fig_geo, \n",
    "    \"latitude_land_len_globe.png\", \n",
    "    \"png\", \n",
    "    scale=1.0, \n",
    "    width=1280, \n",
    "    height=720\n",
    ")"
   ]
  },
  {
   "cell_type": "code",
   "execution_count": 32,
   "metadata": {},
   "outputs": [
    {
     "data": {
      "application/vnd.plotly.v1+json": {
       "config": {
        "plotlyServerURL": "https://plot.ly"
       },
       "data": [
        {
         "hovertemplate": "Широта, °=%{x}<br>Длина суши вдоль параллели, (отн.)=%{y}<extra></extra>",
         "legendgroup": "",
         "line": {
          "color": "#636efa",
          "dash": "solid"
         },
         "marker": {
          "symbol": "circle"
         },
         "mode": "lines",
         "name": "",
         "orientation": "v",
         "showlegend": false,
         "type": "scatter",
         "x": {
          "bdata": "pqeoqaqrrK2ur7CxsrO0tba3uLm6u7y9vr/AwcLDxMXGx8jJysvMzc7P0NHS09TV1tfY2drb3N3e3+Dh4uPk5ebn6Onq6+zt7u/w8fLz9PX29/j5+vv8/f7/AAECAwQFBgcICQoLDA0ODxAREhMUFRYXGBkaGxwdHh8gISIjJCUmJygpKissLS4vMDEyMzQ1Njc4OTo7PD0+P0BBQkNERUZHSElKS0xNTk9QUVJTVFVWV1hZWg==",
          "dtype": "i1"
         },
         "xaxis": "x",
         "y": {
          "bdata": "AAAAAAAAAABXrPYC/f/vP3kMbIH+/+8/IMXhAP//7z8hjpdA///vP9F1Y99BrO4/QEIlEiAd7j/zsp8eSXnsP1Lf/UHtfOo/9+OBX7LD6D+yiV3CqfHnP3NeCcHA8Og/ZHlCsqo96T9R9Fnj5YnnP2wr98WB4ec/P2v45/yI5T83lJdrjSrkP7OlbUcLtuE/t24STFwi4T90nqlSW9beP0478GrPsNc/X5y6fo9V1D+Sqq4Z+cXQPyyAKr1NYsQ/fYcOS9uMoT86/2kFEzx4Pxr2VsNNYoA/fu3Lcv/ZWj+ZVnyH5WNlPwAAAAAAAAAAAAAAAAAAAAAAAAAAAAAAAAAAAAAAAAAAAAAAAAAAAAAAAAAAAAAAABSFqQDFRoU/gcAu+1KXiz92hPfMKaiJP+EBWlwpgpQ/GJipBqQDkD+9eU9lidSSPwBZF4u/fpc/nsSAmDNZmD+lYImoYAuWPwXym+2S8p4/rAVpyLpvoT+6LpPyz9agP2aSqXBgeKM/BdZFQBGkoz8OLKec7DClP4N9C4k+6aM/f0h9Jnpbpj9zwAo50pSyPx655+15yLM/dsRg866Tsz+Z2GxYXCK1P4Ovj2Xf4r8/o0fCbXd3wz/IGtArY1zGP2USj2zpJsk/W3Jc0JETyj+29OkV2/nKPyo/1svO98s/hHceitsfzD++7EAEpAPMP73CSIJ7zc0/T4zqJX/9zj+mVudJzKbPP9ZWEkY8K9A/gvvKvRP1zz/JJEo3ainOP3G95u485M0/S6omIpb8zj/W7+uXdd/OP86luQN+Hs4/A5qb0CQGzT+tSi0U95rLPyb25xSKjco/xXS2eFO9yD9HhAmN2x/IP3Dif2Hn+8k/WXYUitZ9yz8SMChxi//NPxJFuCD+Z88/DGhZOwdgzj+hqmYw5PHNPzE5IJ5jgs8/UbnXJNPg0D/v+D56FtnOPwt+mnPca84/yAWY+8xfyz9XRcM3sVHNP4FE44jR28o/D0Gr2mMVyj+7AElpbTPKP3otZDasr8w/0ZKGevDzzD+GQsgKuIvOP1dnk3ZlGtA/zATYVjvfzz8NBOO6vebOP7L8Kca6b80/NatFE6vQyz8zokryIEPNPy+IbTmBKNA/engfn8Gp0D++sg/oFNTQP3okTPKkT9I/DqsBg5LM0z/4nqg0CtfTP9Fupp9/I9Q/UHdhYeJZ1T+tV2jp/dTWP6x+HDR8htc/bs4qAJB71z/XtnrrTkHXP+rHJySW/Ng/owimcyOU2T9QHhkMBFbaP5wxxpX+jdo/3d6l7fAZ3D96FQChk6vcP1dVhcrvOts/X5qY2GMV2j8K39NJWvfZPzSJKQ3otNs/o0ZTxpks2j+NqBvU7MPbP9+ueG5lGtw/Jh8wD18G3D/Yu4qeALndP2oFk8Dbst4/gjJDQpfb3T/HS2CMqH/fP7n/T4UJHuA/rXEhLtUL4T9B9IAFMlThPzNbnYRV6OE/51zxxid94j/Pjtq+DlPiPxC1k6rz/eE/7l0lBH4e4z9+1WhlaJHjP72yIKJMg+M/EUkJS8ym4j+k6i4Bmr/hPyC++3ikKeE/eqAsjeVj4T/zKjf0ca/gP3bqutC8muE/d492BfoR4z9sv6e03inlPwq+Wx7naOY/udr8g+DB5j8fLNgnVqHnPylzQvoVs+g/SX7Fc71T6T/C2ivK8WXoPx9sX4tP+uY/Mz1vEDaq5D9v6401MufgP3TzLq0i29s/E+Bgf60h2D9llbyysCvUPwb/j/JUwso/eT9e92F90T9zVkcm9y3OPwQIWFJ5oso/4/AA7ibEyj9QuS5xvjLNP4lx/W1qT88/7hN9mPFlzD9ZS41waCTEP0zbtstSl7M/AAAAAAAAAAAAAAAAAAAAAAAAAAAAAAAAAAAAAAAAAAAAAAAAAAAAAAAAAAAAAAAAAAAAAAAAAAA=",
          "dtype": "f8"
         },
         "yaxis": "y"
        }
       ],
       "layout": {
        "legend": {
         "tracegroupgap": 0
        },
        "margin": {
         "t": 60
        },
        "template": {
         "data": {
          "bar": [
           {
            "error_x": {
             "color": "#2a3f5f"
            },
            "error_y": {
             "color": "#2a3f5f"
            },
            "marker": {
             "line": {
              "color": "#E5ECF6",
              "width": 0.5
             },
             "pattern": {
              "fillmode": "overlay",
              "size": 10,
              "solidity": 0.2
             }
            },
            "type": "bar"
           }
          ],
          "barpolar": [
           {
            "marker": {
             "line": {
              "color": "#E5ECF6",
              "width": 0.5
             },
             "pattern": {
              "fillmode": "overlay",
              "size": 10,
              "solidity": 0.2
             }
            },
            "type": "barpolar"
           }
          ],
          "carpet": [
           {
            "aaxis": {
             "endlinecolor": "#2a3f5f",
             "gridcolor": "white",
             "linecolor": "white",
             "minorgridcolor": "white",
             "startlinecolor": "#2a3f5f"
            },
            "baxis": {
             "endlinecolor": "#2a3f5f",
             "gridcolor": "white",
             "linecolor": "white",
             "minorgridcolor": "white",
             "startlinecolor": "#2a3f5f"
            },
            "type": "carpet"
           }
          ],
          "choropleth": [
           {
            "colorbar": {
             "outlinewidth": 0,
             "ticks": ""
            },
            "type": "choropleth"
           }
          ],
          "contour": [
           {
            "colorbar": {
             "outlinewidth": 0,
             "ticks": ""
            },
            "colorscale": [
             [
              0,
              "#0d0887"
             ],
             [
              0.1111111111111111,
              "#46039f"
             ],
             [
              0.2222222222222222,
              "#7201a8"
             ],
             [
              0.3333333333333333,
              "#9c179e"
             ],
             [
              0.4444444444444444,
              "#bd3786"
             ],
             [
              0.5555555555555556,
              "#d8576b"
             ],
             [
              0.6666666666666666,
              "#ed7953"
             ],
             [
              0.7777777777777778,
              "#fb9f3a"
             ],
             [
              0.8888888888888888,
              "#fdca26"
             ],
             [
              1,
              "#f0f921"
             ]
            ],
            "type": "contour"
           }
          ],
          "contourcarpet": [
           {
            "colorbar": {
             "outlinewidth": 0,
             "ticks": ""
            },
            "type": "contourcarpet"
           }
          ],
          "heatmap": [
           {
            "colorbar": {
             "outlinewidth": 0,
             "ticks": ""
            },
            "colorscale": [
             [
              0,
              "#0d0887"
             ],
             [
              0.1111111111111111,
              "#46039f"
             ],
             [
              0.2222222222222222,
              "#7201a8"
             ],
             [
              0.3333333333333333,
              "#9c179e"
             ],
             [
              0.4444444444444444,
              "#bd3786"
             ],
             [
              0.5555555555555556,
              "#d8576b"
             ],
             [
              0.6666666666666666,
              "#ed7953"
             ],
             [
              0.7777777777777778,
              "#fb9f3a"
             ],
             [
              0.8888888888888888,
              "#fdca26"
             ],
             [
              1,
              "#f0f921"
             ]
            ],
            "type": "heatmap"
           }
          ],
          "histogram": [
           {
            "marker": {
             "pattern": {
              "fillmode": "overlay",
              "size": 10,
              "solidity": 0.2
             }
            },
            "type": "histogram"
           }
          ],
          "histogram2d": [
           {
            "colorbar": {
             "outlinewidth": 0,
             "ticks": ""
            },
            "colorscale": [
             [
              0,
              "#0d0887"
             ],
             [
              0.1111111111111111,
              "#46039f"
             ],
             [
              0.2222222222222222,
              "#7201a8"
             ],
             [
              0.3333333333333333,
              "#9c179e"
             ],
             [
              0.4444444444444444,
              "#bd3786"
             ],
             [
              0.5555555555555556,
              "#d8576b"
             ],
             [
              0.6666666666666666,
              "#ed7953"
             ],
             [
              0.7777777777777778,
              "#fb9f3a"
             ],
             [
              0.8888888888888888,
              "#fdca26"
             ],
             [
              1,
              "#f0f921"
             ]
            ],
            "type": "histogram2d"
           }
          ],
          "histogram2dcontour": [
           {
            "colorbar": {
             "outlinewidth": 0,
             "ticks": ""
            },
            "colorscale": [
             [
              0,
              "#0d0887"
             ],
             [
              0.1111111111111111,
              "#46039f"
             ],
             [
              0.2222222222222222,
              "#7201a8"
             ],
             [
              0.3333333333333333,
              "#9c179e"
             ],
             [
              0.4444444444444444,
              "#bd3786"
             ],
             [
              0.5555555555555556,
              "#d8576b"
             ],
             [
              0.6666666666666666,
              "#ed7953"
             ],
             [
              0.7777777777777778,
              "#fb9f3a"
             ],
             [
              0.8888888888888888,
              "#fdca26"
             ],
             [
              1,
              "#f0f921"
             ]
            ],
            "type": "histogram2dcontour"
           }
          ],
          "mesh3d": [
           {
            "colorbar": {
             "outlinewidth": 0,
             "ticks": ""
            },
            "type": "mesh3d"
           }
          ],
          "parcoords": [
           {
            "line": {
             "colorbar": {
              "outlinewidth": 0,
              "ticks": ""
             }
            },
            "type": "parcoords"
           }
          ],
          "pie": [
           {
            "automargin": true,
            "type": "pie"
           }
          ],
          "scatter": [
           {
            "fillpattern": {
             "fillmode": "overlay",
             "size": 10,
             "solidity": 0.2
            },
            "type": "scatter"
           }
          ],
          "scatter3d": [
           {
            "line": {
             "colorbar": {
              "outlinewidth": 0,
              "ticks": ""
             }
            },
            "marker": {
             "colorbar": {
              "outlinewidth": 0,
              "ticks": ""
             }
            },
            "type": "scatter3d"
           }
          ],
          "scattercarpet": [
           {
            "marker": {
             "colorbar": {
              "outlinewidth": 0,
              "ticks": ""
             }
            },
            "type": "scattercarpet"
           }
          ],
          "scattergeo": [
           {
            "marker": {
             "colorbar": {
              "outlinewidth": 0,
              "ticks": ""
             }
            },
            "type": "scattergeo"
           }
          ],
          "scattergl": [
           {
            "marker": {
             "colorbar": {
              "outlinewidth": 0,
              "ticks": ""
             }
            },
            "type": "scattergl"
           }
          ],
          "scattermap": [
           {
            "marker": {
             "colorbar": {
              "outlinewidth": 0,
              "ticks": ""
             }
            },
            "type": "scattermap"
           }
          ],
          "scattermapbox": [
           {
            "marker": {
             "colorbar": {
              "outlinewidth": 0,
              "ticks": ""
             }
            },
            "type": "scattermapbox"
           }
          ],
          "scatterpolar": [
           {
            "marker": {
             "colorbar": {
              "outlinewidth": 0,
              "ticks": ""
             }
            },
            "type": "scatterpolar"
           }
          ],
          "scatterpolargl": [
           {
            "marker": {
             "colorbar": {
              "outlinewidth": 0,
              "ticks": ""
             }
            },
            "type": "scatterpolargl"
           }
          ],
          "scatterternary": [
           {
            "marker": {
             "colorbar": {
              "outlinewidth": 0,
              "ticks": ""
             }
            },
            "type": "scatterternary"
           }
          ],
          "surface": [
           {
            "colorbar": {
             "outlinewidth": 0,
             "ticks": ""
            },
            "colorscale": [
             [
              0,
              "#0d0887"
             ],
             [
              0.1111111111111111,
              "#46039f"
             ],
             [
              0.2222222222222222,
              "#7201a8"
             ],
             [
              0.3333333333333333,
              "#9c179e"
             ],
             [
              0.4444444444444444,
              "#bd3786"
             ],
             [
              0.5555555555555556,
              "#d8576b"
             ],
             [
              0.6666666666666666,
              "#ed7953"
             ],
             [
              0.7777777777777778,
              "#fb9f3a"
             ],
             [
              0.8888888888888888,
              "#fdca26"
             ],
             [
              1,
              "#f0f921"
             ]
            ],
            "type": "surface"
           }
          ],
          "table": [
           {
            "cells": {
             "fill": {
              "color": "#EBF0F8"
             },
             "line": {
              "color": "white"
             }
            },
            "header": {
             "fill": {
              "color": "#C8D4E3"
             },
             "line": {
              "color": "white"
             }
            },
            "type": "table"
           }
          ]
         },
         "layout": {
          "annotationdefaults": {
           "arrowcolor": "#2a3f5f",
           "arrowhead": 0,
           "arrowwidth": 1
          },
          "autotypenumbers": "strict",
          "coloraxis": {
           "colorbar": {
            "outlinewidth": 0,
            "ticks": ""
           }
          },
          "colorscale": {
           "diverging": [
            [
             0,
             "#8e0152"
            ],
            [
             0.1,
             "#c51b7d"
            ],
            [
             0.2,
             "#de77ae"
            ],
            [
             0.3,
             "#f1b6da"
            ],
            [
             0.4,
             "#fde0ef"
            ],
            [
             0.5,
             "#f7f7f7"
            ],
            [
             0.6,
             "#e6f5d0"
            ],
            [
             0.7,
             "#b8e186"
            ],
            [
             0.8,
             "#7fbc41"
            ],
            [
             0.9,
             "#4d9221"
            ],
            [
             1,
             "#276419"
            ]
           ],
           "sequential": [
            [
             0,
             "#0d0887"
            ],
            [
             0.1111111111111111,
             "#46039f"
            ],
            [
             0.2222222222222222,
             "#7201a8"
            ],
            [
             0.3333333333333333,
             "#9c179e"
            ],
            [
             0.4444444444444444,
             "#bd3786"
            ],
            [
             0.5555555555555556,
             "#d8576b"
            ],
            [
             0.6666666666666666,
             "#ed7953"
            ],
            [
             0.7777777777777778,
             "#fb9f3a"
            ],
            [
             0.8888888888888888,
             "#fdca26"
            ],
            [
             1,
             "#f0f921"
            ]
           ],
           "sequentialminus": [
            [
             0,
             "#0d0887"
            ],
            [
             0.1111111111111111,
             "#46039f"
            ],
            [
             0.2222222222222222,
             "#7201a8"
            ],
            [
             0.3333333333333333,
             "#9c179e"
            ],
            [
             0.4444444444444444,
             "#bd3786"
            ],
            [
             0.5555555555555556,
             "#d8576b"
            ],
            [
             0.6666666666666666,
             "#ed7953"
            ],
            [
             0.7777777777777778,
             "#fb9f3a"
            ],
            [
             0.8888888888888888,
             "#fdca26"
            ],
            [
             1,
             "#f0f921"
            ]
           ]
          },
          "colorway": [
           "#636efa",
           "#EF553B",
           "#00cc96",
           "#ab63fa",
           "#FFA15A",
           "#19d3f3",
           "#FF6692",
           "#B6E880",
           "#FF97FF",
           "#FECB52"
          ],
          "font": {
           "color": "#2a3f5f"
          },
          "geo": {
           "bgcolor": "white",
           "lakecolor": "white",
           "landcolor": "#E5ECF6",
           "showlakes": true,
           "showland": true,
           "subunitcolor": "white"
          },
          "hoverlabel": {
           "align": "left"
          },
          "hovermode": "closest",
          "mapbox": {
           "style": "light"
          },
          "paper_bgcolor": "white",
          "plot_bgcolor": "#E5ECF6",
          "polar": {
           "angularaxis": {
            "gridcolor": "white",
            "linecolor": "white",
            "ticks": ""
           },
           "bgcolor": "#E5ECF6",
           "radialaxis": {
            "gridcolor": "white",
            "linecolor": "white",
            "ticks": ""
           }
          },
          "scene": {
           "xaxis": {
            "backgroundcolor": "#E5ECF6",
            "gridcolor": "white",
            "gridwidth": 2,
            "linecolor": "white",
            "showbackground": true,
            "ticks": "",
            "zerolinecolor": "white"
           },
           "yaxis": {
            "backgroundcolor": "#E5ECF6",
            "gridcolor": "white",
            "gridwidth": 2,
            "linecolor": "white",
            "showbackground": true,
            "ticks": "",
            "zerolinecolor": "white"
           },
           "zaxis": {
            "backgroundcolor": "#E5ECF6",
            "gridcolor": "white",
            "gridwidth": 2,
            "linecolor": "white",
            "showbackground": true,
            "ticks": "",
            "zerolinecolor": "white"
           }
          },
          "shapedefaults": {
           "line": {
            "color": "#2a3f5f"
           }
          },
          "ternary": {
           "aaxis": {
            "gridcolor": "white",
            "linecolor": "white",
            "ticks": ""
           },
           "baxis": {
            "gridcolor": "white",
            "linecolor": "white",
            "ticks": ""
           },
           "bgcolor": "#E5ECF6",
           "caxis": {
            "gridcolor": "white",
            "linecolor": "white",
            "ticks": ""
           }
          },
          "title": {
           "x": 0.05
          },
          "xaxis": {
           "automargin": true,
           "gridcolor": "white",
           "linecolor": "white",
           "ticks": "",
           "title": {
            "standoff": 15
           },
           "zerolinecolor": "white",
           "zerolinewidth": 2
          },
          "yaxis": {
           "automargin": true,
           "gridcolor": "white",
           "linecolor": "white",
           "ticks": "",
           "title": {
            "standoff": 15
           },
           "zerolinecolor": "white",
           "zerolinewidth": 2
          }
         }
        },
        "title": {
         "text": "Сколько суши приходится на каждую параллель"
        },
        "xaxis": {
         "anchor": "y",
         "domain": [
          0,
          1
         ],
         "title": {
          "text": "Широта (°)"
         }
        },
        "yaxis": {
         "anchor": "x",
         "domain": [
          0,
          1
         ],
         "title": {
          "text": "Сухопутная длина параллели (отн.)"
         }
        }
       }
      }
     },
     "metadata": {},
     "output_type": "display_data"
    }
   ],
   "source": [
    "# То же, но в процентах (ведь длина окружности вдоль широты не постоянна!)\n",
    "import plotly.express as px\n",
    "\n",
    "lattitudes_land_rel = np.array(latitudes_land_lengths) / (0.001 + np.array(lattitudes_lengths))\n",
    "\n",
    "fig = px.line(\n",
    "    x=latitudes,\n",
    "    y=lattitudes_land_rel,\n",
    "    labels={\n",
    "        \"x\": \"Широта, °\",\n",
    "        \"y\": \"Длина суши вдоль параллели, (отн.)\",\n",
    "    },\n",
    ")\n",
    "fig.update_layout(\n",
    "    title=\"Сколько суши приходится на каждую параллель\",\n",
    "    xaxis_title=\"Широта (°)\",\n",
    "    yaxis_title=\"Сухопутная длина параллели (отн.)\"\n",
    ")\n",
    "fig.show()\n",
    "\n",
    "pio.write_image(\n",
    "    fig, \n",
    "    \"latitude_land_len_line_rel.png\", \n",
    "    \"png\", \n",
    "    scale=2.0, \n",
    "    width=1280, \n",
    "    height=480\n",
    ")"
   ]
  },
  {
   "cell_type": "code",
   "execution_count": 30,
   "metadata": {},
   "outputs": [
    {
     "data": {
      "application/vnd.plotly.v1+json": {
       "config": {
        "plotlyServerURL": "https://plot.ly"
       },
       "data": [
        {
         "lat": {
          "bdata": "pqeoqaqrrK2ur7CxsrO0tba3uLm6u7y9vr/AwcLDxMXGx8jJysvMzc7P0NHS09TV1tfY2drb3N3e3+Dh4uPk5ebn6Onq6+zt7u/w8fLz9PX29/j5+vv8/f7/AAECAwQFBgcICQoLDA0ODxAREhMUFRYXGBkaGxwdHh8gISIjJCUmJygpKissLS4vMDEyMzQ1Njc4OTo7PD0+P0BBQkNERUZHSElKS0xNTk9QUVJTVFVWV1hZWg==",
          "dtype": "i1"
         },
         "line": {
          "color": "rgba(0,0,0,0.5)",
          "width": 2
         },
         "lon": {
          "bdata": "AAAAAAAAAAAAAAAAAAAAAAAAAAAAAAAAAAAAAAAAAAAAAAAAAAAAAAAAAAAAAAAAAAAAAAAAAAAAAAAAAAAAAAAAAAAAAAAAAAAAAAAAAAAAAAAAAAAAAAAAAAAAAAAAAAAAAAAAAAAAAAAAAAAAAAAAAAAAAAAAAAAAAAAAAAAAAAAAAAAAAAAAAAAAAAAAAAAAAAAAAAAAAAAAAAAAAAAAAAAAAAAAAAAAAAAAAAAAAAAAAA==",
          "dtype": "i1"
         },
         "marker": {
          "color": {
           "bdata": "AAAAAAAAAABXrPYC/f/vP3kMbIH+/+8/IMXhAP//7z8hjpdA///vP9F1Y99BrO4/QEIlEiAd7j/zsp8eSXnsP1Lf/UHtfOo/9+OBX7LD6D+yiV3CqfHnP3NeCcHA8Og/ZHlCsqo96T9R9Fnj5YnnP2wr98WB4ec/P2v45/yI5T83lJdrjSrkP7OlbUcLtuE/t24STFwi4T90nqlSW9beP0478GrPsNc/X5y6fo9V1D+Sqq4Z+cXQPyyAKr1NYsQ/fYcOS9uMoT86/2kFEzx4Pxr2VsNNYoA/fu3Lcv/ZWj+ZVnyH5WNlPwAAAAAAAAAAAAAAAAAAAAAAAAAAAAAAAAAAAAAAAAAAAAAAAAAAAAAAAAAAAAAAABSFqQDFRoU/gcAu+1KXiz92hPfMKaiJP+EBWlwpgpQ/GJipBqQDkD+9eU9lidSSPwBZF4u/fpc/nsSAmDNZmD+lYImoYAuWPwXym+2S8p4/rAVpyLpvoT+6LpPyz9agP2aSqXBgeKM/BdZFQBGkoz8OLKec7DClP4N9C4k+6aM/f0h9Jnpbpj9zwAo50pSyPx655+15yLM/dsRg866Tsz+Z2GxYXCK1P4Ovj2Xf4r8/o0fCbXd3wz/IGtArY1zGP2USj2zpJsk/W3Jc0JETyj+29OkV2/nKPyo/1svO98s/hHceitsfzD++7EAEpAPMP73CSIJ7zc0/T4zqJX/9zj+mVudJzKbPP9ZWEkY8K9A/gvvKvRP1zz/JJEo3ainOP3G95u485M0/S6omIpb8zj/W7+uXdd/OP86luQN+Hs4/A5qb0CQGzT+tSi0U95rLPyb25xSKjco/xXS2eFO9yD9HhAmN2x/IP3Dif2Hn+8k/WXYUitZ9yz8SMChxi//NPxJFuCD+Z88/DGhZOwdgzj+hqmYw5PHNPzE5IJ5jgs8/UbnXJNPg0D/v+D56FtnOPwt+mnPca84/yAWY+8xfyz9XRcM3sVHNP4FE44jR28o/D0Gr2mMVyj+7AElpbTPKP3otZDasr8w/0ZKGevDzzD+GQsgKuIvOP1dnk3ZlGtA/zATYVjvfzz8NBOO6vebOP7L8Kca6b80/NatFE6vQyz8zokryIEPNPy+IbTmBKNA/engfn8Gp0D++sg/oFNTQP3okTPKkT9I/DqsBg5LM0z/4nqg0CtfTP9Fupp9/I9Q/UHdhYeJZ1T+tV2jp/dTWP6x+HDR8htc/bs4qAJB71z/XtnrrTkHXP+rHJySW/Ng/owimcyOU2T9QHhkMBFbaP5wxxpX+jdo/3d6l7fAZ3D96FQChk6vcP1dVhcrvOts/X5qY2GMV2j8K39NJWvfZPzSJKQ3otNs/o0ZTxpks2j+NqBvU7MPbP9+ueG5lGtw/Jh8wD18G3D/Yu4qeALndP2oFk8Dbst4/gjJDQpfb3T/HS2CMqH/fP7n/T4UJHuA/rXEhLtUL4T9B9IAFMlThPzNbnYRV6OE/51zxxid94j/Pjtq+DlPiPxC1k6rz/eE/7l0lBH4e4z9+1WhlaJHjP72yIKJMg+M/EUkJS8ym4j+k6i4Bmr/hPyC++3ikKeE/eqAsjeVj4T/zKjf0ca/gP3bqutC8muE/d492BfoR4z9sv6e03inlPwq+Wx7naOY/udr8g+DB5j8fLNgnVqHnPylzQvoVs+g/SX7Fc71T6T/C2ivK8WXoPx9sX4tP+uY/Mz1vEDaq5D9v6401MufgP3TzLq0i29s/E+Bgf60h2D9llbyysCvUPwb/j/JUwso/eT9e92F90T9zVkcm9y3OPwQIWFJ5oso/4/AA7ibEyj9QuS5xvjLNP4lx/W1qT88/7hN9mPFlzD9ZS41waCTEP0zbtstSl7M/AAAAAAAAAAAAAAAAAAAAAAAAAAAAAAAAAAAAAAAAAAAAAAAAAAAAAAAAAAAAAAAAAAAAAAAAAAA=",
           "dtype": "f8"
          },
          "colorbar": {
           "title": {
            "text": "Длина суши (отн.)"
           }
          },
          "colorscale": [
           [
            0,
            "#440154"
           ],
           [
            0.1111111111111111,
            "#482878"
           ],
           [
            0.2222222222222222,
            "#3e4989"
           ],
           [
            0.3333333333333333,
            "#31688e"
           ],
           [
            0.4444444444444444,
            "#26828e"
           ],
           [
            0.5555555555555556,
            "#1f9e89"
           ],
           [
            0.6666666666666666,
            "#35b779"
           ],
           [
            0.7777777777777778,
            "#6ece58"
           ],
           [
            0.8888888888888888,
            "#b5de2b"
           ],
           [
            1,
            "#fde725"
           ]
          ],
          "size": {
           "bdata": "AAAAAAAAAACSQccy/f89QLFLVZn+/z1AzqjTEP//PUA/FY5M//89QHQ+bcF9wTxAHO4CEU47PEDEt7WMtLE6QF0B3m0e1ThAuMWJOXc3N0AXsTcmj3I2QIzI+LS0YTdAzlEeB9CpN0AMVSSFRxE2QLW4l6lpYzZAi+R4GW0wNED0Gt6U5OcyQFjL9pKqmjBAzEdRhzYQMECNBH+d9egsQJk3QXTCNSZAmfLOhjYQI0DSfycQM3MfQCnYV+EoHBNABZ9dlg108D9GXxPVUbjGP3ENQ85RuM4/pi6fe18sqT8vkQQvpw20PwAAAAAAAAAAAAAAAAAAAAAAAAAAAAAAAAAAAAAAAAAAAAAAAAAAAAAAAAAAAAAAAMPsnrBY8tM/edR7y93d2T8vDCgwpw3YP8NhlMYGOuM/Lf19jNMG3j8hgvrOQKfhP3DjZZLTBuY/VLj4XqDT5j+bygCeqqrkP+Uywr5pA+0/UXXiG79Y8D+d99PmxZLvP0D5nmnaQPI/pXhBLNBp8j9NudzS3d3zP6vFeqCqqvI/93MVhML19D9sFHoVhWsBQIw9CU/yiwJAL7gqBHRaAkAPC+aSNtADQIu0Nm+x5A1AKSPm9v8/EkAcGRP5nPYUQD8hxtV6lBdANatWs1hyGEBrVYtkPUoZQDfbGN9ROBpADJB80d1dGkDy3fzDaUMaQJE2JMqj8BtAiuOLM6cNHUA84UiFX6wdQNFiYgMRUR5AykvugcL1HUB8gtWT00YcQJpR+B/5BRxApj8EwMwMHUDZMG0+fvEcQHELfiOWPBxAY+CRg8I1G0ACduqiR+EZQMR2mXOx5BhAeQ0rQX4xF0AD7DjU3Z0WQEnkZ+soXBhA8y5zIfnFGUARrRW6kh8cQMHArD5+cR1Ai9GjxwZ6HED3P2DtxRIcQJ41PmQ9ih1AeHsU5YulH0BgCZsShescQCrWYKwehRxAbIXeK9CpGUACEUcklnwbQDkQVXAULhlA/owAnQ10GECvcLSSNpAYQKLq/XKx5BpApCnecrEkG0BevhuK/KIcQMNhVD5+MR5Af4RqoUfhHUDM0zTfUfgcQOdcxxm/mBtAglARYqATGkAQ+CXj7m4bQFhfrUvySx5A5QFbCks+H0Akbx0zp40fQDJiJ6OqKiFAXZDRWsmPIkAIFV6RmZkiQOQHrKVH4SJA219LO0QEJEAy0tEKrmclQMG22nAUDiZAhyEoANcDJkBqC8P8Oc0lQGtL5cHMbCdAGahrPOH6J0BrjFfLo7AoQILOaawe5ShA74DL3lFYKkAiFPBm2uAqQAIA3c1AhylAuRAPmw10KEAZoTal5FcoQKHwVoyZ+SlAORLuKdCJKEAE7tkGrgcqQPEjkRe/WCpANB09HvlFKkAaEKKUcN0rQBPViQSuxyxAWv8ezt39K0ALR5oDroctQHv/9dlROC5AJLV+ti/2L0D95Cjl7j4wQICFUyzQyTBAGUeCSlVVMUDi5ezS3S0xQL956m8U3jBADwjjI5bsMUAmSBLfUVgyQJGn/tcXSzJAgLRYhl98MUD6+xthoKMwQD4CbDEKFzBActZZNKdNMECIcOep9UgvQM87rwMRgTBAgCYfZdrgMUB1Q13JQNczQCkCdqxYAjVADQ29e8JVNUBdqVrFQCc2QPZLnprkJzdAZCaJnIG+N0AWHYmtkt82QF11qZKqijVAYElor5JfM0BwGWokfrEvQD0EXIJwHSpAEtJqp5KfJkAPzJCn9egiQBb/ZqMvFhlAgVvo14tlIEAM4eKzF0scQISHMr1R+BhA1eEgf+QXGUC7zRuKkl8bQHCaHcdzWh1Ar0L1fpKfGkCjdoTpIeISQJdt+57dXQJAAAAAAAAAAAAAAAAAAAAAAAAAAAAAAAAAAAAAAAAAAAAAAAAAAAAAAAAAAAAAAAAAAAAAAAAAAAA=",
           "dtype": "f8"
          }
         },
         "mode": "lines+markers",
         "name": "Длина суши по параллелям",
         "type": "scattergeo"
        }
       ],
       "layout": {
        "geo": {
         "landcolor": "lightgray",
         "projection": {
          "type": "natural earth"
         },
         "showcoastlines": true,
         "showcountries": true,
         "showland": true
        },
        "height": 600,
        "template": {
         "data": {
          "bar": [
           {
            "error_x": {
             "color": "#2a3f5f"
            },
            "error_y": {
             "color": "#2a3f5f"
            },
            "marker": {
             "line": {
              "color": "#E5ECF6",
              "width": 0.5
             },
             "pattern": {
              "fillmode": "overlay",
              "size": 10,
              "solidity": 0.2
             }
            },
            "type": "bar"
           }
          ],
          "barpolar": [
           {
            "marker": {
             "line": {
              "color": "#E5ECF6",
              "width": 0.5
             },
             "pattern": {
              "fillmode": "overlay",
              "size": 10,
              "solidity": 0.2
             }
            },
            "type": "barpolar"
           }
          ],
          "carpet": [
           {
            "aaxis": {
             "endlinecolor": "#2a3f5f",
             "gridcolor": "white",
             "linecolor": "white",
             "minorgridcolor": "white",
             "startlinecolor": "#2a3f5f"
            },
            "baxis": {
             "endlinecolor": "#2a3f5f",
             "gridcolor": "white",
             "linecolor": "white",
             "minorgridcolor": "white",
             "startlinecolor": "#2a3f5f"
            },
            "type": "carpet"
           }
          ],
          "choropleth": [
           {
            "colorbar": {
             "outlinewidth": 0,
             "ticks": ""
            },
            "type": "choropleth"
           }
          ],
          "contour": [
           {
            "colorbar": {
             "outlinewidth": 0,
             "ticks": ""
            },
            "colorscale": [
             [
              0,
              "#0d0887"
             ],
             [
              0.1111111111111111,
              "#46039f"
             ],
             [
              0.2222222222222222,
              "#7201a8"
             ],
             [
              0.3333333333333333,
              "#9c179e"
             ],
             [
              0.4444444444444444,
              "#bd3786"
             ],
             [
              0.5555555555555556,
              "#d8576b"
             ],
             [
              0.6666666666666666,
              "#ed7953"
             ],
             [
              0.7777777777777778,
              "#fb9f3a"
             ],
             [
              0.8888888888888888,
              "#fdca26"
             ],
             [
              1,
              "#f0f921"
             ]
            ],
            "type": "contour"
           }
          ],
          "contourcarpet": [
           {
            "colorbar": {
             "outlinewidth": 0,
             "ticks": ""
            },
            "type": "contourcarpet"
           }
          ],
          "heatmap": [
           {
            "colorbar": {
             "outlinewidth": 0,
             "ticks": ""
            },
            "colorscale": [
             [
              0,
              "#0d0887"
             ],
             [
              0.1111111111111111,
              "#46039f"
             ],
             [
              0.2222222222222222,
              "#7201a8"
             ],
             [
              0.3333333333333333,
              "#9c179e"
             ],
             [
              0.4444444444444444,
              "#bd3786"
             ],
             [
              0.5555555555555556,
              "#d8576b"
             ],
             [
              0.6666666666666666,
              "#ed7953"
             ],
             [
              0.7777777777777778,
              "#fb9f3a"
             ],
             [
              0.8888888888888888,
              "#fdca26"
             ],
             [
              1,
              "#f0f921"
             ]
            ],
            "type": "heatmap"
           }
          ],
          "histogram": [
           {
            "marker": {
             "pattern": {
              "fillmode": "overlay",
              "size": 10,
              "solidity": 0.2
             }
            },
            "type": "histogram"
           }
          ],
          "histogram2d": [
           {
            "colorbar": {
             "outlinewidth": 0,
             "ticks": ""
            },
            "colorscale": [
             [
              0,
              "#0d0887"
             ],
             [
              0.1111111111111111,
              "#46039f"
             ],
             [
              0.2222222222222222,
              "#7201a8"
             ],
             [
              0.3333333333333333,
              "#9c179e"
             ],
             [
              0.4444444444444444,
              "#bd3786"
             ],
             [
              0.5555555555555556,
              "#d8576b"
             ],
             [
              0.6666666666666666,
              "#ed7953"
             ],
             [
              0.7777777777777778,
              "#fb9f3a"
             ],
             [
              0.8888888888888888,
              "#fdca26"
             ],
             [
              1,
              "#f0f921"
             ]
            ],
            "type": "histogram2d"
           }
          ],
          "histogram2dcontour": [
           {
            "colorbar": {
             "outlinewidth": 0,
             "ticks": ""
            },
            "colorscale": [
             [
              0,
              "#0d0887"
             ],
             [
              0.1111111111111111,
              "#46039f"
             ],
             [
              0.2222222222222222,
              "#7201a8"
             ],
             [
              0.3333333333333333,
              "#9c179e"
             ],
             [
              0.4444444444444444,
              "#bd3786"
             ],
             [
              0.5555555555555556,
              "#d8576b"
             ],
             [
              0.6666666666666666,
              "#ed7953"
             ],
             [
              0.7777777777777778,
              "#fb9f3a"
             ],
             [
              0.8888888888888888,
              "#fdca26"
             ],
             [
              1,
              "#f0f921"
             ]
            ],
            "type": "histogram2dcontour"
           }
          ],
          "mesh3d": [
           {
            "colorbar": {
             "outlinewidth": 0,
             "ticks": ""
            },
            "type": "mesh3d"
           }
          ],
          "parcoords": [
           {
            "line": {
             "colorbar": {
              "outlinewidth": 0,
              "ticks": ""
             }
            },
            "type": "parcoords"
           }
          ],
          "pie": [
           {
            "automargin": true,
            "type": "pie"
           }
          ],
          "scatter": [
           {
            "fillpattern": {
             "fillmode": "overlay",
             "size": 10,
             "solidity": 0.2
            },
            "type": "scatter"
           }
          ],
          "scatter3d": [
           {
            "line": {
             "colorbar": {
              "outlinewidth": 0,
              "ticks": ""
             }
            },
            "marker": {
             "colorbar": {
              "outlinewidth": 0,
              "ticks": ""
             }
            },
            "type": "scatter3d"
           }
          ],
          "scattercarpet": [
           {
            "marker": {
             "colorbar": {
              "outlinewidth": 0,
              "ticks": ""
             }
            },
            "type": "scattercarpet"
           }
          ],
          "scattergeo": [
           {
            "marker": {
             "colorbar": {
              "outlinewidth": 0,
              "ticks": ""
             }
            },
            "type": "scattergeo"
           }
          ],
          "scattergl": [
           {
            "marker": {
             "colorbar": {
              "outlinewidth": 0,
              "ticks": ""
             }
            },
            "type": "scattergl"
           }
          ],
          "scattermap": [
           {
            "marker": {
             "colorbar": {
              "outlinewidth": 0,
              "ticks": ""
             }
            },
            "type": "scattermap"
           }
          ],
          "scattermapbox": [
           {
            "marker": {
             "colorbar": {
              "outlinewidth": 0,
              "ticks": ""
             }
            },
            "type": "scattermapbox"
           }
          ],
          "scatterpolar": [
           {
            "marker": {
             "colorbar": {
              "outlinewidth": 0,
              "ticks": ""
             }
            },
            "type": "scatterpolar"
           }
          ],
          "scatterpolargl": [
           {
            "marker": {
             "colorbar": {
              "outlinewidth": 0,
              "ticks": ""
             }
            },
            "type": "scatterpolargl"
           }
          ],
          "scatterternary": [
           {
            "marker": {
             "colorbar": {
              "outlinewidth": 0,
              "ticks": ""
             }
            },
            "type": "scatterternary"
           }
          ],
          "surface": [
           {
            "colorbar": {
             "outlinewidth": 0,
             "ticks": ""
            },
            "colorscale": [
             [
              0,
              "#0d0887"
             ],
             [
              0.1111111111111111,
              "#46039f"
             ],
             [
              0.2222222222222222,
              "#7201a8"
             ],
             [
              0.3333333333333333,
              "#9c179e"
             ],
             [
              0.4444444444444444,
              "#bd3786"
             ],
             [
              0.5555555555555556,
              "#d8576b"
             ],
             [
              0.6666666666666666,
              "#ed7953"
             ],
             [
              0.7777777777777778,
              "#fb9f3a"
             ],
             [
              0.8888888888888888,
              "#fdca26"
             ],
             [
              1,
              "#f0f921"
             ]
            ],
            "type": "surface"
           }
          ],
          "table": [
           {
            "cells": {
             "fill": {
              "color": "#EBF0F8"
             },
             "line": {
              "color": "white"
             }
            },
            "header": {
             "fill": {
              "color": "#C8D4E3"
             },
             "line": {
              "color": "white"
             }
            },
            "type": "table"
           }
          ]
         },
         "layout": {
          "annotationdefaults": {
           "arrowcolor": "#2a3f5f",
           "arrowhead": 0,
           "arrowwidth": 1
          },
          "autotypenumbers": "strict",
          "coloraxis": {
           "colorbar": {
            "outlinewidth": 0,
            "ticks": ""
           }
          },
          "colorscale": {
           "diverging": [
            [
             0,
             "#8e0152"
            ],
            [
             0.1,
             "#c51b7d"
            ],
            [
             0.2,
             "#de77ae"
            ],
            [
             0.3,
             "#f1b6da"
            ],
            [
             0.4,
             "#fde0ef"
            ],
            [
             0.5,
             "#f7f7f7"
            ],
            [
             0.6,
             "#e6f5d0"
            ],
            [
             0.7,
             "#b8e186"
            ],
            [
             0.8,
             "#7fbc41"
            ],
            [
             0.9,
             "#4d9221"
            ],
            [
             1,
             "#276419"
            ]
           ],
           "sequential": [
            [
             0,
             "#0d0887"
            ],
            [
             0.1111111111111111,
             "#46039f"
            ],
            [
             0.2222222222222222,
             "#7201a8"
            ],
            [
             0.3333333333333333,
             "#9c179e"
            ],
            [
             0.4444444444444444,
             "#bd3786"
            ],
            [
             0.5555555555555556,
             "#d8576b"
            ],
            [
             0.6666666666666666,
             "#ed7953"
            ],
            [
             0.7777777777777778,
             "#fb9f3a"
            ],
            [
             0.8888888888888888,
             "#fdca26"
            ],
            [
             1,
             "#f0f921"
            ]
           ],
           "sequentialminus": [
            [
             0,
             "#0d0887"
            ],
            [
             0.1111111111111111,
             "#46039f"
            ],
            [
             0.2222222222222222,
             "#7201a8"
            ],
            [
             0.3333333333333333,
             "#9c179e"
            ],
            [
             0.4444444444444444,
             "#bd3786"
            ],
            [
             0.5555555555555556,
             "#d8576b"
            ],
            [
             0.6666666666666666,
             "#ed7953"
            ],
            [
             0.7777777777777778,
             "#fb9f3a"
            ],
            [
             0.8888888888888888,
             "#fdca26"
            ],
            [
             1,
             "#f0f921"
            ]
           ]
          },
          "colorway": [
           "#636efa",
           "#EF553B",
           "#00cc96",
           "#ab63fa",
           "#FFA15A",
           "#19d3f3",
           "#FF6692",
           "#B6E880",
           "#FF97FF",
           "#FECB52"
          ],
          "font": {
           "color": "#2a3f5f"
          },
          "geo": {
           "bgcolor": "white",
           "lakecolor": "white",
           "landcolor": "#E5ECF6",
           "showlakes": true,
           "showland": true,
           "subunitcolor": "white"
          },
          "hoverlabel": {
           "align": "left"
          },
          "hovermode": "closest",
          "mapbox": {
           "style": "light"
          },
          "paper_bgcolor": "white",
          "plot_bgcolor": "#E5ECF6",
          "polar": {
           "angularaxis": {
            "gridcolor": "white",
            "linecolor": "white",
            "ticks": ""
           },
           "bgcolor": "#E5ECF6",
           "radialaxis": {
            "gridcolor": "white",
            "linecolor": "white",
            "ticks": ""
           }
          },
          "scene": {
           "xaxis": {
            "backgroundcolor": "#E5ECF6",
            "gridcolor": "white",
            "gridwidth": 2,
            "linecolor": "white",
            "showbackground": true,
            "ticks": "",
            "zerolinecolor": "white"
           },
           "yaxis": {
            "backgroundcolor": "#E5ECF6",
            "gridcolor": "white",
            "gridwidth": 2,
            "linecolor": "white",
            "showbackground": true,
            "ticks": "",
            "zerolinecolor": "white"
           },
           "zaxis": {
            "backgroundcolor": "#E5ECF6",
            "gridcolor": "white",
            "gridwidth": 2,
            "linecolor": "white",
            "showbackground": true,
            "ticks": "",
            "zerolinecolor": "white"
           }
          },
          "shapedefaults": {
           "line": {
            "color": "#2a3f5f"
           }
          },
          "ternary": {
           "aaxis": {
            "gridcolor": "white",
            "linecolor": "white",
            "ticks": ""
           },
           "baxis": {
            "gridcolor": "white",
            "linecolor": "white",
            "ticks": ""
           },
           "bgcolor": "#E5ECF6",
           "caxis": {
            "gridcolor": "white",
            "linecolor": "white",
            "ticks": ""
           }
          },
          "title": {
           "x": 0.05
          },
          "xaxis": {
           "automargin": true,
           "gridcolor": "white",
           "linecolor": "white",
           "ticks": "",
           "title": {
            "standoff": 15
           },
           "zerolinecolor": "white",
           "zerolinewidth": 2
          },
          "yaxis": {
           "automargin": true,
           "gridcolor": "white",
           "linecolor": "white",
           "ticks": "",
           "title": {
            "standoff": 15
           },
           "zerolinecolor": "white",
           "zerolinewidth": 2
          }
         }
        },
        "title": {
         "text": "Сколько суши приходится на каждую параллель"
        },
        "width": 800
       }
      }
     },
     "metadata": {},
     "output_type": "display_data"
    }
   ],
   "source": [
    "import pandas as pd\n",
    "import plotly.graph_objects as go\n",
    "import plotly.io as pio\n",
    "\n",
    "df = pd.DataFrame({\"lat\": latitudes, \"land_km\": lattitudes_land_rel})\n",
    "df = df.sort_values(\"lat\")\n",
    "df[\"lon\"] = 0  # кладём всё на меридиан 0°\n",
    "\n",
    "marker_size = df[\"land_km\"] * 30 \n",
    "\n",
    "fig_geo = go.Figure()\n",
    "\n",
    "fig_geo.add_trace(go.Scattergeo(\n",
    "    lon=df[\"lon\"],\n",
    "    lat=df[\"lat\"],\n",
    "    mode=\"lines+markers\",\n",
    "    marker=dict(\n",
    "        size=marker_size,  # Теперь размер точек пропорционален длине суши\n",
    "        color=df[\"land_km\"],\n",
    "        colorbar=dict(title=\"Длина суши (отн.)\"),\n",
    "        colorscale=\"Viridis\",\n",
    "    ),\n",
    "    line=dict(width=2, color=\"rgba(0,0,0,0.5)\"),\n",
    "    name=\"Длина суши по параллелям\"\n",
    "))\n",
    "\n",
    "fig_geo.update_geos(\n",
    "    projection_type=\"natural earth\",\n",
    "    showcoastlines=True,\n",
    "    showcountries=True,\n",
    "    showland=True,\n",
    "    landcolor=\"lightgray\"\n",
    ")\n",
    "\n",
    "fig_geo.update_layout(\n",
    "    title=\"Сколько суши приходится на каждую параллель\",\n",
    "    height=600,\n",
    "    width=800\n",
    ")\n",
    "\n",
    "fig_geo.show()\n",
    "\n",
    "pio.write_image(\n",
    "    fig_geo, \n",
    "    \"latitude_land_len_globe_rel.png\", \n",
    "    \"png\", \n",
    "    scale=1.0, \n",
    "    width=1280, \n",
    "    height=720\n",
    ")"
   ]
  }
 ],
 "metadata": {
  "kernelspec": {
   "display_name": "base",
   "language": "python",
   "name": "python3"
  },
  "language_info": {
   "codemirror_mode": {
    "name": "ipython",
    "version": 3
   },
   "file_extension": ".py",
   "mimetype": "text/x-python",
   "name": "python",
   "nbconvert_exporter": "python",
   "pygments_lexer": "ipython3",
   "version": "3.9.21"
  }
 },
 "nbformat": 4,
 "nbformat_minor": 2
}
