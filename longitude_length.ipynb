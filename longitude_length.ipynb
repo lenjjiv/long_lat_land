{
 "cells": [
  {
   "cell_type": "code",
   "execution_count": 1,
   "metadata": {},
   "outputs": [
    {
     "name": "stdout",
     "output_type": "stream",
     "text": [
      "Note: you may need to restart the kernel to use updated packages.\n"
     ]
    },
    {
     "name": "stderr",
     "output_type": "stream",
     "text": [
      "WARNING: Ignoring invalid distribution -ytz (c:\\users\\lenjjiv\\miniconda3\\lib\\site-packages)\n",
      "WARNING: Ignoring invalid distribution -ytz (c:\\users\\lenjjiv\\miniconda3\\lib\\site-packages)\n",
      "WARNING: Ignoring invalid distribution -ytz (c:\\users\\lenjjiv\\miniconda3\\lib\\site-packages)\n"
     ]
    }
   ],
   "source": [
    "%pip install -q global-land-mask pyproj"
   ]
  },
  {
   "cell_type": "code",
   "execution_count": 2,
   "metadata": {},
   "outputs": [],
   "source": [
    "import numpy as np\n",
    "from global_land_mask import globe\n",
    "from pyproj import Geod\n",
    "import plotly.io as pio\n",
    "\n",
    "# Геодезический объект для WGS-84\n",
    "GEOD = Geod(ellps=\"WGS84\")"
   ]
  },
  {
   "cell_type": "code",
   "execution_count": 3,
   "metadata": {},
   "outputs": [],
   "source": [
    "def land_meridian_length(\n",
    "        lon_deg: float,\n",
    "        step: float = 0.00,\n",
    ") -> tuple[float, float]:\n",
    "    \"\"\"\n",
    "    Возвращает:\n",
    "        (total_m_land_km, total_m_km)\n",
    "    где\n",
    "        total_m_land_km – суммарная длина сухопутных сегментов,\n",
    "        total_m_km      – полная длина меридиана при заданном шаге.\n",
    "\n",
    "    Parameters\n",
    "    ----------\n",
    "    lon_deg : float\n",
    "        Долгота меридиана (–180 … +180 °).\n",
    "    step : float, optional\n",
    "        Шаг по широте, ° (по умолчанию 0.01° ≈ 1.1 км).\n",
    "    \"\"\"\n",
    "    if not -180.0 <= lon_deg <= 180.0:\n",
    "        raise ValueError(\"Долгота должна быть в диапазоне –180…+180°\")\n",
    "    if step <= 0 or step > 1:\n",
    "        raise ValueError(\"step должен быть > 0 и ≤ 1°\")\n",
    "\n",
    "    # Равномерные широты, –90…+90 включительно (linspace гарантирует конец)\n",
    "    n = int(round(180 / step)) + 1\n",
    "    lats = np.linspace(-90.0, 90.0, n)\n",
    "\n",
    "    # Маска суши (True=суша, False=вода)\n",
    "    land_mask = globe.is_land(lats, np.full_like(lats, lon_deg))\n",
    "\n",
    "    total_m = 0.0  # полная длина\n",
    "    total_m_land = 0.0  # только суша\n",
    "\n",
    "    # Идём по каждой паре соседних широт\n",
    "    for i in range(len(lats) - 1):\n",
    "        lat1, lat2 = lats[i], lats[i + 1]\n",
    "\n",
    "        # Геодезическая длина маленького отрезка\n",
    "        _, _, seg = GEOD.inv(lon_deg, lat1, lon_deg, lat2)\n",
    "        seg = abs(seg)  # метры\n",
    "        total_m += seg\n",
    "\n",
    "        # На суше, только если обе точки сегмента – суша\n",
    "        if land_mask[i] and land_mask[i + 1]:\n",
    "            total_m_land += seg\n",
    "\n",
    "    # Переводим в километры\n",
    "    return total_m_land / 1_000.0, total_m / 1_000.0"
   ]
  },
  {
   "cell_type": "code",
   "execution_count": 4,
   "metadata": {},
   "outputs": [
    {
     "data": {
      "application/vnd.jupyter.widget-view+json": {
       "model_id": "4e6b7db115954309bedaf4944b062b24",
       "version_major": 2,
       "version_minor": 0
      },
      "text/plain": [
       "  0%|          | 0/360 [00:00<?, ?it/s]"
      ]
     },
     "metadata": {},
     "output_type": "display_data"
    }
   ],
   "source": [
    "from tqdm.auto import tqdm\n",
    "\n",
    "meridians = list(range(-180, 180))\n",
    "meridians_land_lengths = []\n",
    "\n",
    "for meridian_ in tqdm(meridians):\n",
    "    land_km, full_km = land_meridian_length(meridian_, step=0.01)\n",
    "    meridians_land_lengths.append(land_km)"
   ]
  },
  {
   "cell_type": "code",
   "execution_count": 9,
   "metadata": {},
   "outputs": [
    {
     "data": {
      "application/vnd.plotly.v1+json": {
       "config": {
        "plotlyServerURL": "https://plot.ly"
       },
       "data": [
        {
         "hovertemplate": "Долгота, °=%{x}<br>Длина суши, км=%{y}<extra></extra>",
         "legendgroup": "",
         "line": {
          "color": "#636efa",
          "dash": "solid"
         },
         "marker": {
          "symbol": "circle"
         },
         "mode": "lines",
         "name": "",
         "orientation": "v",
         "showlegend": false,
         "type": "scatter",
         "x": {
          "bdata": "TP9N/07/T/9Q/1H/Uv9T/1T/Vf9W/1f/WP9Z/1r/W/9c/13/Xv9f/2D/Yf9i/2P/ZP9l/2b/Z/9o/2n/av9r/2z/bf9u/2//cP9x/3L/c/90/3X/dv93/3j/ef96/3v/fP99/37/f/+A/4H/gv+D/4T/hf+G/4f/iP+J/4r/i/+M/43/jv+P/5D/kf+S/5P/lP+V/5b/l/+Y/5n/mv+b/5z/nf+e/5//oP+h/6L/o/+k/6X/pv+n/6j/qf+q/6v/rP+t/67/r/+w/7H/sv+z/7T/tf+2/7f/uP+5/7r/u/+8/73/vv+//8D/wf/C/8P/xP/F/8b/x//I/8n/yv/L/8z/zf/O/8//0P/R/9L/0//U/9X/1v/X/9j/2f/a/9v/3P/d/97/3//g/+H/4v/j/+T/5f/m/+f/6P/p/+r/6//s/+3/7v/v//D/8f/y//P/9P/1//b/9//4//n/+v/7//z//f/+////AAABAAIAAwAEAAUABgAHAAgACQAKAAsADAANAA4ADwAQABEAEgATABQAFQAWABcAGAAZABoAGwAcAB0AHgAfACAAIQAiACMAJAAlACYAJwAoACkAKgArACwALQAuAC8AMAAxADIAMwA0ADUANgA3ADgAOQA6ADsAPAA9AD4APwBAAEEAQgBDAEQARQBGAEcASABJAEoASwBMAE0ATgBPAFAAUQBSAFMAVABVAFYAVwBYAFkAWgBbAFwAXQBeAF8AYABhAGIAYwBkAGUAZgBnAGgAaQBqAGsAbABtAG4AbwBwAHEAcgBzAHQAdQB2AHcAeAB5AHoAewB8AH0AfgB/AIAAgQCCAIMAhACFAIYAhwCIAIkAigCLAIwAjQCOAI8AkACRAJIAkwCUAJUAlgCXAJgAmQCaAJsAnACdAJ4AnwCgAKEAogCjAKQApQCmAKcAqACpAKoAqwCsAK0ArgCvALAAsQCyALMA",
          "dtype": "i2"
         },
         "xaxis": "x",
         "y": {
          "bdata": "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",
          "dtype": "f8"
         },
         "yaxis": "y"
        }
       ],
       "layout": {
        "legend": {
         "tracegroupgap": 0
        },
        "margin": {
         "t": 60
        },
        "template": {
         "data": {
          "bar": [
           {
            "error_x": {
             "color": "#2a3f5f"
            },
            "error_y": {
             "color": "#2a3f5f"
            },
            "marker": {
             "line": {
              "color": "#E5ECF6",
              "width": 0.5
             },
             "pattern": {
              "fillmode": "overlay",
              "size": 10,
              "solidity": 0.2
             }
            },
            "type": "bar"
           }
          ],
          "barpolar": [
           {
            "marker": {
             "line": {
              "color": "#E5ECF6",
              "width": 0.5
             },
             "pattern": {
              "fillmode": "overlay",
              "size": 10,
              "solidity": 0.2
             }
            },
            "type": "barpolar"
           }
          ],
          "carpet": [
           {
            "aaxis": {
             "endlinecolor": "#2a3f5f",
             "gridcolor": "white",
             "linecolor": "white",
             "minorgridcolor": "white",
             "startlinecolor": "#2a3f5f"
            },
            "baxis": {
             "endlinecolor": "#2a3f5f",
             "gridcolor": "white",
             "linecolor": "white",
             "minorgridcolor": "white",
             "startlinecolor": "#2a3f5f"
            },
            "type": "carpet"
           }
          ],
          "choropleth": [
           {
            "colorbar": {
             "outlinewidth": 0,
             "ticks": ""
            },
            "type": "choropleth"
           }
          ],
          "contour": [
           {
            "colorbar": {
             "outlinewidth": 0,
             "ticks": ""
            },
            "colorscale": [
             [
              0,
              "#0d0887"
             ],
             [
              0.1111111111111111,
              "#46039f"
             ],
             [
              0.2222222222222222,
              "#7201a8"
             ],
             [
              0.3333333333333333,
              "#9c179e"
             ],
             [
              0.4444444444444444,
              "#bd3786"
             ],
             [
              0.5555555555555556,
              "#d8576b"
             ],
             [
              0.6666666666666666,
              "#ed7953"
             ],
             [
              0.7777777777777778,
              "#fb9f3a"
             ],
             [
              0.8888888888888888,
              "#fdca26"
             ],
             [
              1,
              "#f0f921"
             ]
            ],
            "type": "contour"
           }
          ],
          "contourcarpet": [
           {
            "colorbar": {
             "outlinewidth": 0,
             "ticks": ""
            },
            "type": "contourcarpet"
           }
          ],
          "heatmap": [
           {
            "colorbar": {
             "outlinewidth": 0,
             "ticks": ""
            },
            "colorscale": [
             [
              0,
              "#0d0887"
             ],
             [
              0.1111111111111111,
              "#46039f"
             ],
             [
              0.2222222222222222,
              "#7201a8"
             ],
             [
              0.3333333333333333,
              "#9c179e"
             ],
             [
              0.4444444444444444,
              "#bd3786"
             ],
             [
              0.5555555555555556,
              "#d8576b"
             ],
             [
              0.6666666666666666,
              "#ed7953"
             ],
             [
              0.7777777777777778,
              "#fb9f3a"
             ],
             [
              0.8888888888888888,
              "#fdca26"
             ],
             [
              1,
              "#f0f921"
             ]
            ],
            "type": "heatmap"
           }
          ],
          "histogram": [
           {
            "marker": {
             "pattern": {
              "fillmode": "overlay",
              "size": 10,
              "solidity": 0.2
             }
            },
            "type": "histogram"
           }
          ],
          "histogram2d": [
           {
            "colorbar": {
             "outlinewidth": 0,
             "ticks": ""
            },
            "colorscale": [
             [
              0,
              "#0d0887"
             ],
             [
              0.1111111111111111,
              "#46039f"
             ],
             [
              0.2222222222222222,
              "#7201a8"
             ],
             [
              0.3333333333333333,
              "#9c179e"
             ],
             [
              0.4444444444444444,
              "#bd3786"
             ],
             [
              0.5555555555555556,
              "#d8576b"
             ],
             [
              0.6666666666666666,
              "#ed7953"
             ],
             [
              0.7777777777777778,
              "#fb9f3a"
             ],
             [
              0.8888888888888888,
              "#fdca26"
             ],
             [
              1,
              "#f0f921"
             ]
            ],
            "type": "histogram2d"
           }
          ],
          "histogram2dcontour": [
           {
            "colorbar": {
             "outlinewidth": 0,
             "ticks": ""
            },
            "colorscale": [
             [
              0,
              "#0d0887"
             ],
             [
              0.1111111111111111,
              "#46039f"
             ],
             [
              0.2222222222222222,
              "#7201a8"
             ],
             [
              0.3333333333333333,
              "#9c179e"
             ],
             [
              0.4444444444444444,
              "#bd3786"
             ],
             [
              0.5555555555555556,
              "#d8576b"
             ],
             [
              0.6666666666666666,
              "#ed7953"
             ],
             [
              0.7777777777777778,
              "#fb9f3a"
             ],
             [
              0.8888888888888888,
              "#fdca26"
             ],
             [
              1,
              "#f0f921"
             ]
            ],
            "type": "histogram2dcontour"
           }
          ],
          "mesh3d": [
           {
            "colorbar": {
             "outlinewidth": 0,
             "ticks": ""
            },
            "type": "mesh3d"
           }
          ],
          "parcoords": [
           {
            "line": {
             "colorbar": {
              "outlinewidth": 0,
              "ticks": ""
             }
            },
            "type": "parcoords"
           }
          ],
          "pie": [
           {
            "automargin": true,
            "type": "pie"
           }
          ],
          "scatter": [
           {
            "fillpattern": {
             "fillmode": "overlay",
             "size": 10,
             "solidity": 0.2
            },
            "type": "scatter"
           }
          ],
          "scatter3d": [
           {
            "line": {
             "colorbar": {
              "outlinewidth": 0,
              "ticks": ""
             }
            },
            "marker": {
             "colorbar": {
              "outlinewidth": 0,
              "ticks": ""
             }
            },
            "type": "scatter3d"
           }
          ],
          "scattercarpet": [
           {
            "marker": {
             "colorbar": {
              "outlinewidth": 0,
              "ticks": ""
             }
            },
            "type": "scattercarpet"
           }
          ],
          "scattergeo": [
           {
            "marker": {
             "colorbar": {
              "outlinewidth": 0,
              "ticks": ""
             }
            },
            "type": "scattergeo"
           }
          ],
          "scattergl": [
           {
            "marker": {
             "colorbar": {
              "outlinewidth": 0,
              "ticks": ""
             }
            },
            "type": "scattergl"
           }
          ],
          "scattermap": [
           {
            "marker": {
             "colorbar": {
              "outlinewidth": 0,
              "ticks": ""
             }
            },
            "type": "scattermap"
           }
          ],
          "scattermapbox": [
           {
            "marker": {
             "colorbar": {
              "outlinewidth": 0,
              "ticks": ""
             }
            },
            "type": "scattermapbox"
           }
          ],
          "scatterpolar": [
           {
            "marker": {
             "colorbar": {
              "outlinewidth": 0,
              "ticks": ""
             }
            },
            "type": "scatterpolar"
           }
          ],
          "scatterpolargl": [
           {
            "marker": {
             "colorbar": {
              "outlinewidth": 0,
              "ticks": ""
             }
            },
            "type": "scatterpolargl"
           }
          ],
          "scatterternary": [
           {
            "marker": {
             "colorbar": {
              "outlinewidth": 0,
              "ticks": ""
             }
            },
            "type": "scatterternary"
           }
          ],
          "surface": [
           {
            "colorbar": {
             "outlinewidth": 0,
             "ticks": ""
            },
            "colorscale": [
             [
              0,
              "#0d0887"
             ],
             [
              0.1111111111111111,
              "#46039f"
             ],
             [
              0.2222222222222222,
              "#7201a8"
             ],
             [
              0.3333333333333333,
              "#9c179e"
             ],
             [
              0.4444444444444444,
              "#bd3786"
             ],
             [
              0.5555555555555556,
              "#d8576b"
             ],
             [
              0.6666666666666666,
              "#ed7953"
             ],
             [
              0.7777777777777778,
              "#fb9f3a"
             ],
             [
              0.8888888888888888,
              "#fdca26"
             ],
             [
              1,
              "#f0f921"
             ]
            ],
            "type": "surface"
           }
          ],
          "table": [
           {
            "cells": {
             "fill": {
              "color": "#EBF0F8"
             },
             "line": {
              "color": "white"
             }
            },
            "header": {
             "fill": {
              "color": "#C8D4E3"
             },
             "line": {
              "color": "white"
             }
            },
            "type": "table"
           }
          ]
         },
         "layout": {
          "annotationdefaults": {
           "arrowcolor": "#2a3f5f",
           "arrowhead": 0,
           "arrowwidth": 1
          },
          "autotypenumbers": "strict",
          "coloraxis": {
           "colorbar": {
            "outlinewidth": 0,
            "ticks": ""
           }
          },
          "colorscale": {
           "diverging": [
            [
             0,
             "#8e0152"
            ],
            [
             0.1,
             "#c51b7d"
            ],
            [
             0.2,
             "#de77ae"
            ],
            [
             0.3,
             "#f1b6da"
            ],
            [
             0.4,
             "#fde0ef"
            ],
            [
             0.5,
             "#f7f7f7"
            ],
            [
             0.6,
             "#e6f5d0"
            ],
            [
             0.7,
             "#b8e186"
            ],
            [
             0.8,
             "#7fbc41"
            ],
            [
             0.9,
             "#4d9221"
            ],
            [
             1,
             "#276419"
            ]
           ],
           "sequential": [
            [
             0,
             "#0d0887"
            ],
            [
             0.1111111111111111,
             "#46039f"
            ],
            [
             0.2222222222222222,
             "#7201a8"
            ],
            [
             0.3333333333333333,
             "#9c179e"
            ],
            [
             0.4444444444444444,
             "#bd3786"
            ],
            [
             0.5555555555555556,
             "#d8576b"
            ],
            [
             0.6666666666666666,
             "#ed7953"
            ],
            [
             0.7777777777777778,
             "#fb9f3a"
            ],
            [
             0.8888888888888888,
             "#fdca26"
            ],
            [
             1,
             "#f0f921"
            ]
           ],
           "sequentialminus": [
            [
             0,
             "#0d0887"
            ],
            [
             0.1111111111111111,
             "#46039f"
            ],
            [
             0.2222222222222222,
             "#7201a8"
            ],
            [
             0.3333333333333333,
             "#9c179e"
            ],
            [
             0.4444444444444444,
             "#bd3786"
            ],
            [
             0.5555555555555556,
             "#d8576b"
            ],
            [
             0.6666666666666666,
             "#ed7953"
            ],
            [
             0.7777777777777778,
             "#fb9f3a"
            ],
            [
             0.8888888888888888,
             "#fdca26"
            ],
            [
             1,
             "#f0f921"
            ]
           ]
          },
          "colorway": [
           "#636efa",
           "#EF553B",
           "#00cc96",
           "#ab63fa",
           "#FFA15A",
           "#19d3f3",
           "#FF6692",
           "#B6E880",
           "#FF97FF",
           "#FECB52"
          ],
          "font": {
           "color": "#2a3f5f"
          },
          "geo": {
           "bgcolor": "white",
           "lakecolor": "white",
           "landcolor": "#E5ECF6",
           "showlakes": true,
           "showland": true,
           "subunitcolor": "white"
          },
          "hoverlabel": {
           "align": "left"
          },
          "hovermode": "closest",
          "mapbox": {
           "style": "light"
          },
          "paper_bgcolor": "white",
          "plot_bgcolor": "#E5ECF6",
          "polar": {
           "angularaxis": {
            "gridcolor": "white",
            "linecolor": "white",
            "ticks": ""
           },
           "bgcolor": "#E5ECF6",
           "radialaxis": {
            "gridcolor": "white",
            "linecolor": "white",
            "ticks": ""
           }
          },
          "scene": {
           "xaxis": {
            "backgroundcolor": "#E5ECF6",
            "gridcolor": "white",
            "gridwidth": 2,
            "linecolor": "white",
            "showbackground": true,
            "ticks": "",
            "zerolinecolor": "white"
           },
           "yaxis": {
            "backgroundcolor": "#E5ECF6",
            "gridcolor": "white",
            "gridwidth": 2,
            "linecolor": "white",
            "showbackground": true,
            "ticks": "",
            "zerolinecolor": "white"
           },
           "zaxis": {
            "backgroundcolor": "#E5ECF6",
            "gridcolor": "white",
            "gridwidth": 2,
            "linecolor": "white",
            "showbackground": true,
            "ticks": "",
            "zerolinecolor": "white"
           }
          },
          "shapedefaults": {
           "line": {
            "color": "#2a3f5f"
           }
          },
          "ternary": {
           "aaxis": {
            "gridcolor": "white",
            "linecolor": "white",
            "ticks": ""
           },
           "baxis": {
            "gridcolor": "white",
            "linecolor": "white",
            "ticks": ""
           },
           "bgcolor": "#E5ECF6",
           "caxis": {
            "gridcolor": "white",
            "linecolor": "white",
            "ticks": ""
           }
          },
          "title": {
           "x": 0.05
          },
          "xaxis": {
           "automargin": true,
           "gridcolor": "white",
           "linecolor": "white",
           "ticks": "",
           "title": {
            "standoff": 15
           },
           "zerolinecolor": "white",
           "zerolinewidth": 2
          },
          "yaxis": {
           "automargin": true,
           "gridcolor": "white",
           "linecolor": "white",
           "ticks": "",
           "title": {
            "standoff": 15
           },
           "zerolinecolor": "white",
           "zerolinewidth": 2
          }
         }
        },
        "xaxis": {
         "anchor": "y",
         "domain": [
          0,
          1
         ],
         "title": {
          "text": "Долгота, °"
         }
        },
        "yaxis": {
         "anchor": "x",
         "domain": [
          0,
          1
         ],
         "title": {
          "text": "Длина суши, км"
         }
        }
       }
      }
     },
     "metadata": {},
     "output_type": "display_data"
    }
   ],
   "source": [
    "import plotly.express as px\n",
    "\n",
    "fig = px.line(\n",
    "    x=meridians,\n",
    "    y=meridians_land_lengths,\n",
    "    labels={\n",
    "        \"x\": \"Долгота, °\",\n",
    "        \"y\": \"Длина суши, км\",\n",
    "    },\n",
    ")\n",
    "fig.show()\n",
    "\n",
    "pio.write_image(\n",
    "    fig, \n",
    "    \"longitude_land_len_line.png\", \n",
    "    \"png\", \n",
    "    scale=2.0, \n",
    "    width=1280, \n",
    "    height=480\n",
    ")"
   ]
  },
  {
   "cell_type": "code",
   "execution_count": 11,
   "metadata": {},
   "outputs": [
    {
     "data": {
      "application/vnd.plotly.v1+json": {
       "config": {
        "plotlyServerURL": "https://plot.ly"
       },
       "data": [
        {
         "lat": {
          "bdata": "AAAAAAAAAAAAAAAAAAAAAAAAAAAAAAAAAAAAAAAAAAAAAAAAAAAAAAAAAAAAAAAAAAAAAAAAAAAAAAAAAAAAAAAAAAAAAAAAAAAAAAAAAAAAAAAAAAAAAAAAAAAAAAAAAAAAAAAAAAAAAAAAAAAAAAAAAAAAAAAAAAAAAAAAAAAAAAAAAAAAAAAAAAAAAAAAAAAAAAAAAAAAAAAAAAAAAAAAAAAAAAAAAAAAAAAAAAAAAAAAAAAAAAAAAAAAAAAAAAAAAAAAAAAAAAAAAAAAAAAAAAAAAAAAAAAAAAAAAAAAAAAAAAAAAAAAAAAAAAAAAAAAAAAAAAAAAAAAAAAAAAAAAAAAAAAAAAAAAAAAAAAAAAAAAAAAAAAAAAAAAAAAAAAAAAAAAAAAAAAAAAAAAAAAAAAAAAAAAAAAAAAAAAAAAAAAAAAAAAAAAAAAAAAAAAAAAAAAAAAAAAAAAAAAAAAAAAAAAAAA",
          "dtype": "i1"
         },
         "line": {
          "color": "rgba(0,0,0,0.5)",
          "width": 2
         },
         "lon": {
          "bdata": "TP9N/07/T/9Q/1H/Uv9T/1T/Vf9W/1f/WP9Z/1r/W/9c/13/Xv9f/2D/Yf9i/2P/ZP9l/2b/Z/9o/2n/av9r/2z/bf9u/2//cP9x/3L/c/90/3X/dv93/3j/ef96/3v/fP99/37/f/+A/4H/gv+D/4T/hf+G/4f/iP+J/4r/i/+M/43/jv+P/5D/kf+S/5P/lP+V/5b/l/+Y/5n/mv+b/5z/nf+e/5//oP+h/6L/o/+k/6X/pv+n/6j/qf+q/6v/rP+t/67/r/+w/7H/sv+z/7T/tf+2/7f/uP+5/7r/u/+8/73/vv+//8D/wf/C/8P/xP/F/8b/x//I/8n/yv/L/8z/zf/O/8//0P/R/9L/0//U/9X/1v/X/9j/2f/a/9v/3P/d/97/3//g/+H/4v/j/+T/5f/m/+f/6P/p/+r/6//s/+3/7v/v//D/8f/y//P/9P/1//b/9//4//n/+v/7//z//f/+////AAABAAIAAwAEAAUABgAHAAgACQAKAAsADAANAA4ADwAQABEAEgATABQAFQAWABcAGAAZABoAGwAcAB0AHgAfACAAIQAiACMAJAAlACYAJwAoACkAKgArACwALQAuAC8AMAAxADIAMwA0ADUANgA3ADgAOQA6ADsAPAA9AD4APwBAAEEAQgBDAEQARQBGAEcASABJAEoASwBMAE0ATgBPAFAAUQBSAFMAVABVAFYAVwBYAFkAWgBbAFwAXQBeAF8AYABhAGIAYwBkAGUAZgBnAGgAaQBqAGsAbABtAG4AbwBwAHEAcgBzAHQAdQB2AHcAeAB5AHoAewB8AH0AfgB/AIAAgQCCAIMAhACFAIYAhwCIAIkAigCLAIwAjQCOAI8AkACRAJIAkwCUAJUAlgCXAJgAmQCaAJsAnACdAJ4AnwCgAKEAogCjAKQApQCmAKcAqACpAKoAqwCsAK0ArgCvALAAsQCyALMA",
          "dtype": "i2"
         },
         "marker": {
          "color": {
           "bdata": "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",
           "dtype": "f8"
          },
          "colorbar": {
           "title": {
            "text": "Длина суши (км)"
           }
          },
          "colorscale": [
           [
            0,
            "#440154"
           ],
           [
            0.1111111111111111,
            "#482878"
           ],
           [
            0.2222222222222222,
            "#3e4989"
           ],
           [
            0.3333333333333333,
            "#31688e"
           ],
           [
            0.4444444444444444,
            "#26828e"
           ],
           [
            0.5555555555555556,
            "#1f9e89"
           ],
           [
            0.6666666666666666,
            "#35b779"
           ],
           [
            0.7777777777777778,
            "#6ece58"
           ],
           [
            0.8888888888888888,
            "#b5de2b"
           ],
           [
            1,
            "#fde725"
           ]
          ],
          "size": {
           "bdata": "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",
           "dtype": "f8"
          }
         },
         "mode": "lines+markers",
         "name": "Длина суши по меридианам",
         "type": "scattergeo"
        }
       ],
       "layout": {
        "geo": {
         "landcolor": "lightgray",
         "projection": {
          "type": "natural earth"
         },
         "showcoastlines": true,
         "showcountries": true,
         "showland": true
        },
        "height": 600,
        "template": {
         "data": {
          "bar": [
           {
            "error_x": {
             "color": "#2a3f5f"
            },
            "error_y": {
             "color": "#2a3f5f"
            },
            "marker": {
             "line": {
              "color": "#E5ECF6",
              "width": 0.5
             },
             "pattern": {
              "fillmode": "overlay",
              "size": 10,
              "solidity": 0.2
             }
            },
            "type": "bar"
           }
          ],
          "barpolar": [
           {
            "marker": {
             "line": {
              "color": "#E5ECF6",
              "width": 0.5
             },
             "pattern": {
              "fillmode": "overlay",
              "size": 10,
              "solidity": 0.2
             }
            },
            "type": "barpolar"
           }
          ],
          "carpet": [
           {
            "aaxis": {
             "endlinecolor": "#2a3f5f",
             "gridcolor": "white",
             "linecolor": "white",
             "minorgridcolor": "white",
             "startlinecolor": "#2a3f5f"
            },
            "baxis": {
             "endlinecolor": "#2a3f5f",
             "gridcolor": "white",
             "linecolor": "white",
             "minorgridcolor": "white",
             "startlinecolor": "#2a3f5f"
            },
            "type": "carpet"
           }
          ],
          "choropleth": [
           {
            "colorbar": {
             "outlinewidth": 0,
             "ticks": ""
            },
            "type": "choropleth"
           }
          ],
          "contour": [
           {
            "colorbar": {
             "outlinewidth": 0,
             "ticks": ""
            },
            "colorscale": [
             [
              0,
              "#0d0887"
             ],
             [
              0.1111111111111111,
              "#46039f"
             ],
             [
              0.2222222222222222,
              "#7201a8"
             ],
             [
              0.3333333333333333,
              "#9c179e"
             ],
             [
              0.4444444444444444,
              "#bd3786"
             ],
             [
              0.5555555555555556,
              "#d8576b"
             ],
             [
              0.6666666666666666,
              "#ed7953"
             ],
             [
              0.7777777777777778,
              "#fb9f3a"
             ],
             [
              0.8888888888888888,
              "#fdca26"
             ],
             [
              1,
              "#f0f921"
             ]
            ],
            "type": "contour"
           }
          ],
          "contourcarpet": [
           {
            "colorbar": {
             "outlinewidth": 0,
             "ticks": ""
            },
            "type": "contourcarpet"
           }
          ],
          "heatmap": [
           {
            "colorbar": {
             "outlinewidth": 0,
             "ticks": ""
            },
            "colorscale": [
             [
              0,
              "#0d0887"
             ],
             [
              0.1111111111111111,
              "#46039f"
             ],
             [
              0.2222222222222222,
              "#7201a8"
             ],
             [
              0.3333333333333333,
              "#9c179e"
             ],
             [
              0.4444444444444444,
              "#bd3786"
             ],
             [
              0.5555555555555556,
              "#d8576b"
             ],
             [
              0.6666666666666666,
              "#ed7953"
             ],
             [
              0.7777777777777778,
              "#fb9f3a"
             ],
             [
              0.8888888888888888,
              "#fdca26"
             ],
             [
              1,
              "#f0f921"
             ]
            ],
            "type": "heatmap"
           }
          ],
          "histogram": [
           {
            "marker": {
             "pattern": {
              "fillmode": "overlay",
              "size": 10,
              "solidity": 0.2
             }
            },
            "type": "histogram"
           }
          ],
          "histogram2d": [
           {
            "colorbar": {
             "outlinewidth": 0,
             "ticks": ""
            },
            "colorscale": [
             [
              0,
              "#0d0887"
             ],
             [
              0.1111111111111111,
              "#46039f"
             ],
             [
              0.2222222222222222,
              "#7201a8"
             ],
             [
              0.3333333333333333,
              "#9c179e"
             ],
             [
              0.4444444444444444,
              "#bd3786"
             ],
             [
              0.5555555555555556,
              "#d8576b"
             ],
             [
              0.6666666666666666,
              "#ed7953"
             ],
             [
              0.7777777777777778,
              "#fb9f3a"
             ],
             [
              0.8888888888888888,
              "#fdca26"
             ],
             [
              1,
              "#f0f921"
             ]
            ],
            "type": "histogram2d"
           }
          ],
          "histogram2dcontour": [
           {
            "colorbar": {
             "outlinewidth": 0,
             "ticks": ""
            },
            "colorscale": [
             [
              0,
              "#0d0887"
             ],
             [
              0.1111111111111111,
              "#46039f"
             ],
             [
              0.2222222222222222,
              "#7201a8"
             ],
             [
              0.3333333333333333,
              "#9c179e"
             ],
             [
              0.4444444444444444,
              "#bd3786"
             ],
             [
              0.5555555555555556,
              "#d8576b"
             ],
             [
              0.6666666666666666,
              "#ed7953"
             ],
             [
              0.7777777777777778,
              "#fb9f3a"
             ],
             [
              0.8888888888888888,
              "#fdca26"
             ],
             [
              1,
              "#f0f921"
             ]
            ],
            "type": "histogram2dcontour"
           }
          ],
          "mesh3d": [
           {
            "colorbar": {
             "outlinewidth": 0,
             "ticks": ""
            },
            "type": "mesh3d"
           }
          ],
          "parcoords": [
           {
            "line": {
             "colorbar": {
              "outlinewidth": 0,
              "ticks": ""
             }
            },
            "type": "parcoords"
           }
          ],
          "pie": [
           {
            "automargin": true,
            "type": "pie"
           }
          ],
          "scatter": [
           {
            "fillpattern": {
             "fillmode": "overlay",
             "size": 10,
             "solidity": 0.2
            },
            "type": "scatter"
           }
          ],
          "scatter3d": [
           {
            "line": {
             "colorbar": {
              "outlinewidth": 0,
              "ticks": ""
             }
            },
            "marker": {
             "colorbar": {
              "outlinewidth": 0,
              "ticks": ""
             }
            },
            "type": "scatter3d"
           }
          ],
          "scattercarpet": [
           {
            "marker": {
             "colorbar": {
              "outlinewidth": 0,
              "ticks": ""
             }
            },
            "type": "scattercarpet"
           }
          ],
          "scattergeo": [
           {
            "marker": {
             "colorbar": {
              "outlinewidth": 0,
              "ticks": ""
             }
            },
            "type": "scattergeo"
           }
          ],
          "scattergl": [
           {
            "marker": {
             "colorbar": {
              "outlinewidth": 0,
              "ticks": ""
             }
            },
            "type": "scattergl"
           }
          ],
          "scattermap": [
           {
            "marker": {
             "colorbar": {
              "outlinewidth": 0,
              "ticks": ""
             }
            },
            "type": "scattermap"
           }
          ],
          "scattermapbox": [
           {
            "marker": {
             "colorbar": {
              "outlinewidth": 0,
              "ticks": ""
             }
            },
            "type": "scattermapbox"
           }
          ],
          "scatterpolar": [
           {
            "marker": {
             "colorbar": {
              "outlinewidth": 0,
              "ticks": ""
             }
            },
            "type": "scatterpolar"
           }
          ],
          "scatterpolargl": [
           {
            "marker": {
             "colorbar": {
              "outlinewidth": 0,
              "ticks": ""
             }
            },
            "type": "scatterpolargl"
           }
          ],
          "scatterternary": [
           {
            "marker": {
             "colorbar": {
              "outlinewidth": 0,
              "ticks": ""
             }
            },
            "type": "scatterternary"
           }
          ],
          "surface": [
           {
            "colorbar": {
             "outlinewidth": 0,
             "ticks": ""
            },
            "colorscale": [
             [
              0,
              "#0d0887"
             ],
             [
              0.1111111111111111,
              "#46039f"
             ],
             [
              0.2222222222222222,
              "#7201a8"
             ],
             [
              0.3333333333333333,
              "#9c179e"
             ],
             [
              0.4444444444444444,
              "#bd3786"
             ],
             [
              0.5555555555555556,
              "#d8576b"
             ],
             [
              0.6666666666666666,
              "#ed7953"
             ],
             [
              0.7777777777777778,
              "#fb9f3a"
             ],
             [
              0.8888888888888888,
              "#fdca26"
             ],
             [
              1,
              "#f0f921"
             ]
            ],
            "type": "surface"
           }
          ],
          "table": [
           {
            "cells": {
             "fill": {
              "color": "#EBF0F8"
             },
             "line": {
              "color": "white"
             }
            },
            "header": {
             "fill": {
              "color": "#C8D4E3"
             },
             "line": {
              "color": "white"
             }
            },
            "type": "table"
           }
          ]
         },
         "layout": {
          "annotationdefaults": {
           "arrowcolor": "#2a3f5f",
           "arrowhead": 0,
           "arrowwidth": 1
          },
          "autotypenumbers": "strict",
          "coloraxis": {
           "colorbar": {
            "outlinewidth": 0,
            "ticks": ""
           }
          },
          "colorscale": {
           "diverging": [
            [
             0,
             "#8e0152"
            ],
            [
             0.1,
             "#c51b7d"
            ],
            [
             0.2,
             "#de77ae"
            ],
            [
             0.3,
             "#f1b6da"
            ],
            [
             0.4,
             "#fde0ef"
            ],
            [
             0.5,
             "#f7f7f7"
            ],
            [
             0.6,
             "#e6f5d0"
            ],
            [
             0.7,
             "#b8e186"
            ],
            [
             0.8,
             "#7fbc41"
            ],
            [
             0.9,
             "#4d9221"
            ],
            [
             1,
             "#276419"
            ]
           ],
           "sequential": [
            [
             0,
             "#0d0887"
            ],
            [
             0.1111111111111111,
             "#46039f"
            ],
            [
             0.2222222222222222,
             "#7201a8"
            ],
            [
             0.3333333333333333,
             "#9c179e"
            ],
            [
             0.4444444444444444,
             "#bd3786"
            ],
            [
             0.5555555555555556,
             "#d8576b"
            ],
            [
             0.6666666666666666,
             "#ed7953"
            ],
            [
             0.7777777777777778,
             "#fb9f3a"
            ],
            [
             0.8888888888888888,
             "#fdca26"
            ],
            [
             1,
             "#f0f921"
            ]
           ],
           "sequentialminus": [
            [
             0,
             "#0d0887"
            ],
            [
             0.1111111111111111,
             "#46039f"
            ],
            [
             0.2222222222222222,
             "#7201a8"
            ],
            [
             0.3333333333333333,
             "#9c179e"
            ],
            [
             0.4444444444444444,
             "#bd3786"
            ],
            [
             0.5555555555555556,
             "#d8576b"
            ],
            [
             0.6666666666666666,
             "#ed7953"
            ],
            [
             0.7777777777777778,
             "#fb9f3a"
            ],
            [
             0.8888888888888888,
             "#fdca26"
            ],
            [
             1,
             "#f0f921"
            ]
           ]
          },
          "colorway": [
           "#636efa",
           "#EF553B",
           "#00cc96",
           "#ab63fa",
           "#FFA15A",
           "#19d3f3",
           "#FF6692",
           "#B6E880",
           "#FF97FF",
           "#FECB52"
          ],
          "font": {
           "color": "#2a3f5f"
          },
          "geo": {
           "bgcolor": "white",
           "lakecolor": "white",
           "landcolor": "#E5ECF6",
           "showlakes": true,
           "showland": true,
           "subunitcolor": "white"
          },
          "hoverlabel": {
           "align": "left"
          },
          "hovermode": "closest",
          "mapbox": {
           "style": "light"
          },
          "paper_bgcolor": "white",
          "plot_bgcolor": "#E5ECF6",
          "polar": {
           "angularaxis": {
            "gridcolor": "white",
            "linecolor": "white",
            "ticks": ""
           },
           "bgcolor": "#E5ECF6",
           "radialaxis": {
            "gridcolor": "white",
            "linecolor": "white",
            "ticks": ""
           }
          },
          "scene": {
           "xaxis": {
            "backgroundcolor": "#E5ECF6",
            "gridcolor": "white",
            "gridwidth": 2,
            "linecolor": "white",
            "showbackground": true,
            "ticks": "",
            "zerolinecolor": "white"
           },
           "yaxis": {
            "backgroundcolor": "#E5ECF6",
            "gridcolor": "white",
            "gridwidth": 2,
            "linecolor": "white",
            "showbackground": true,
            "ticks": "",
            "zerolinecolor": "white"
           },
           "zaxis": {
            "backgroundcolor": "#E5ECF6",
            "gridcolor": "white",
            "gridwidth": 2,
            "linecolor": "white",
            "showbackground": true,
            "ticks": "",
            "zerolinecolor": "white"
           }
          },
          "shapedefaults": {
           "line": {
            "color": "#2a3f5f"
           }
          },
          "ternary": {
           "aaxis": {
            "gridcolor": "white",
            "linecolor": "white",
            "ticks": ""
           },
           "baxis": {
            "gridcolor": "white",
            "linecolor": "white",
            "ticks": ""
           },
           "bgcolor": "#E5ECF6",
           "caxis": {
            "gridcolor": "white",
            "linecolor": "white",
            "ticks": ""
           }
          },
          "title": {
           "x": 0.05
          },
          "xaxis": {
           "automargin": true,
           "gridcolor": "white",
           "linecolor": "white",
           "ticks": "",
           "title": {
            "standoff": 15
           },
           "zerolinecolor": "white",
           "zerolinewidth": 2
          },
          "yaxis": {
           "automargin": true,
           "gridcolor": "white",
           "linecolor": "white",
           "ticks": "",
           "title": {
            "standoff": 15
           },
           "zerolinecolor": "white",
           "zerolinewidth": 2
          }
         }
        },
        "title": {
         "text": "Сколько суши приходится на каждый меридиан"
        },
        "width": 1000
       }
      }
     },
     "metadata": {},
     "output_type": "display_data"
    }
   ],
   "source": [
    "import pandas as pd\n",
    "import plotly.graph_objects as go\n",
    "import numpy as np\n",
    "\n",
    "df = pd.DataFrame({\"lon\": meridians, \"land_km\": meridians_land_lengths})\n",
    "df = df.sort_values(\"lon\")\n",
    "df[\"lat\"] = 0  # Кладём всё дело на экватор\n",
    "\n",
    "marker_size = df[\"land_km\"] / max(meridians_land_lengths) * 30\n",
    "\n",
    "fig_geo = go.Figure()\n",
    "\n",
    "# Используем colorscale в маркерах вместо линии\n",
    "fig_geo.add_trace(go.Scattergeo(\n",
    "    lon=df[\"lon\"],\n",
    "    lat=df[\"lat\"],\n",
    "    mode=\"lines+markers\",\n",
    "    marker=dict(\n",
    "        size=marker_size,  # Теперь размер точек пропорционален длине суши\n",
    "        color=df[\"land_km\"],\n",
    "        colorscale=\"Viridis\",  # Включил обратно для лучшей визуализации\n",
    "        colorbar=dict(title=\"Длина суши (км)\")\n",
    "    ),\n",
    "    line=dict(width=2, color=\"rgba(0,0,0,0.5)\"),\n",
    "    name=\"Длина суши по меридианам\"\n",
    "))\n",
    "\n",
    "fig_geo.update_geos(\n",
    "    projection_type=\"natural earth\",\n",
    "    showcoastlines=True,\n",
    "    showcountries=True,\n",
    "    showland=True,\n",
    "    landcolor=\"lightgray\"\n",
    ")\n",
    "\n",
    "fig_geo.update_layout(\n",
    "    title=\"Сколько суши приходится на каждый меридиан\",\n",
    "    height=600,\n",
    "    width=1000\n",
    ")\n",
    "\n",
    "fig_geo.show()\n",
    "\n",
    "pio.write_image(\n",
    "    fig_geo, \n",
    "    \"longitude_land_len_globe.png\", \n",
    "    \"png\", \n",
    "    scale=1.0, \n",
    "    width=1280, \n",
    "    height=720\n",
    ")"
   ]
  },
  {
   "cell_type": "code",
   "execution_count": null,
   "metadata": {},
   "outputs": [],
   "source": []
  }
 ],
 "metadata": {
  "kernelspec": {
   "display_name": "base",
   "language": "python",
   "name": "python3"
  },
  "language_info": {
   "codemirror_mode": {
    "name": "ipython",
    "version": 3
   },
   "file_extension": ".py",
   "mimetype": "text/x-python",
   "name": "python",
   "nbconvert_exporter": "python",
   "pygments_lexer": "ipython3",
   "version": "3.9.21"
  }
 },
 "nbformat": 4,
 "nbformat_minor": 2
}
